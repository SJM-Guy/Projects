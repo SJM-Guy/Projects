{
  "cells": [
    {
      "cell_type": "markdown",
      "source": [
        "# Importing the required libraries"
      ],
      "metadata": {
        "id": "OKZGEhPiEzV-"
      }
    },
    {
      "cell_type": "code",
      "execution_count": null,
      "metadata": {
        "id": "chpSjDaXm9KG"
      },
      "outputs": [],
      "source": [
        "import numpy as np\n",
        "import matplotlib.pyplot as plt\n",
        "from sklearn.model_selection import train_test_split\n",
        "from sklearn.feature_extraction.text import CountVectorizer\n",
        "from sklearn.feature_extraction.text import TfidfVectorizer\n",
        "from sklearn.preprocessing import Normalizer\n",
        "from sklearn.model_selection import GridSearchCV\n",
        "from sklearn.naive_bayes import MultinomialNB\n",
        "from scipy.sparse import hstack\n",
        "from tqdm import tqdm\n",
        "from sklearn.metrics import roc_curve,auc\n",
        "from sklearn.metrics import confusion_matrix\n",
        "\n",
        "import seaborn as sns\n",
        "import matplotlib.pyplot as plt\n",
        "from prettytable import PrettyTable"
      ]
    },
    {
      "cell_type": "markdown",
      "metadata": {
        "id": "FYqCIxzFb3c5"
      },
      "source": [
        "# 1.1 Loading the already preprocessed Data\n"
      ]
    },
    {
      "cell_type": "code",
      "execution_count": null,
      "metadata": {
        "id": "dA1jknyqb3c_"
      },
      "outputs": [],
      "source": [
        "import pandas as pd\n",
        "data = pd.read_csv('preprocessed_data.csv')"
      ]
    },
    {
      "cell_type": "markdown",
      "metadata": {
        "id": "WtVV13Fyb3dH"
      },
      "source": [
        "<h1>1.2 Splitting data into Train and cross validation(or test): Stratified Sampling</h1>\n"
      ]
    },
    {
      "cell_type": "code",
      "execution_count": null,
      "metadata": {
        "id": "i-PyprDNb3dI"
      },
      "outputs": [],
      "source": [
        "# Splitting the data into train and test dataset\n",
        "y = data['project_is_approved']                                 # Storing the y-values separately from the data\n",
        "data.drop(['project_is_approved'],axis=1, inplace=True)         # removing the y-value column from the data\n"
      ]
    },
    {
      "cell_type": "code",
      "execution_count": null,
      "metadata": {
        "id": "M6zqozR9DsMb"
      },
      "outputs": [],
      "source": [
        "X_train, X_test, y_train, y_test = train_test_split(data,y, test_size=0.30 ,stratify=y)"
      ]
    },
    {
      "cell_type": "markdown",
      "metadata": {
        "id": "EnZwVNULb3dO"
      },
      "source": [
        "<h1>1.3 Make Data Model Ready: encoding essay</h1>"
      ]
    },
    {
      "cell_type": "markdown",
      "metadata": {
        "id": "1U875iqFDsMe"
      },
      "source": [
        "### 1.3.1 BoW encoding"
      ]
    },
    {
      "cell_type": "code",
      "execution_count": null,
      "metadata": {
        "id": "Ld_DAPuoDsMe",
        "outputId": "6eeef846-2fb5-480e-bd04-d1ef2db48d51"
      },
      "outputs": [
        {
          "name": "stdout",
          "output_type": "stream",
          "text": [
            "After Vectorizations: \n",
            "(76473, 15000) (76473,)\n",
            "(32775, 15000) (32775,)\n",
            "====================================================================================================\n"
          ]
        }
      ],
      "source": [
        "# Initialise the vectorizer with the best hyperparameters i.e. ngram_range=(1,1), max_features=15k\n",
        "bow = CountVectorizer(ngram_range=(1,1), max_features=15000)\n",
        "bow.fit(X_train['essay'].values)\n",
        "\n",
        "# Transform the essay-feature after fitting a BoW Vectorizer\n",
        "X_train_essay_bow = bow.transform(X_train['essay'].values)\n",
        "X_test_essay_bow = bow.transform(X_test['essay'].values)\n",
        "\n",
        "\n",
        "print(\"After Vectorizations: \")\n",
        "print(X_train_essay_bow.shape, y_train.shape)\n",
        "print(X_test_essay_bow.shape, y_test.shape)\n",
        "print('='*100)"
      ]
    },
    {
      "cell_type": "markdown",
      "metadata": {
        "id": "YG7VPRZ7DsMg"
      },
      "source": [
        "### 1.3.2 TF-IDF encoding "
      ]
    },
    {
      "cell_type": "code",
      "execution_count": null,
      "metadata": {
        "id": "WtjRe-B7DsMg",
        "outputId": "e8b3a7fb-8e4b-4e27-8f23-93a5d343e189"
      },
      "outputs": [
        {
          "name": "stdout",
          "output_type": "stream",
          "text": [
            "After Vectorizations: \n",
            "(76473, 75000) (76473,)\n",
            "(32775, 75000) (32775,)\n",
            "====================================================================================================\n"
          ]
        }
      ],
      "source": [
        "# Initialise the vectorizer with the best hyperparameters i.e. ngram_range=(1,2), max_features=75k\n",
        "tfidf = TfidfVectorizer(ngram_range=(1,2), max_features=75000)\n",
        "tfidf.fit(X_train['essay'].values)\n",
        "\n",
        "# Transform the train and test dataset \n",
        "X_train_essay_tfidf = tfidf.transform(X_train['essay'].values)\n",
        "X_test_essay_tfidf = tfidf.transform(X_test['essay'].values)\n",
        "\n",
        "\n",
        "print(\"After Vectorizations: \")\n",
        "print(X_train_essay_tfidf.shape, y_train.shape)\n",
        "print(X_test_essay_tfidf.shape, y_test.shape)\n",
        "print('='*100)"
      ]
    },
    {
      "cell_type": "markdown",
      "metadata": {
        "id": "bGy86kgHb3dX"
      },
      "source": [
        "<h2>1.4 Make Data Model Ready: encoding numerical, categorical features</h2>"
      ]
    },
    {
      "cell_type": "markdown",
      "metadata": {
        "id": "R67lXXW0DsMi"
      },
      "source": [
        "### 1.4.1 encoding numerical features: price(Normalizing)"
      ]
    },
    {
      "cell_type": "code",
      "execution_count": null,
      "metadata": {
        "id": "qknw-2uPDsMi",
        "outputId": "ab91c8f1-8b1d-45b0-ca8f-3bee3d40b4e6"
      },
      "outputs": [
        {
          "name": "stdout",
          "output_type": "stream",
          "text": [
            "After Vectorizations: \n",
            "(76473, 1) (76473,)\n",
            "(32775, 1) (32775,)\n",
            "====================================================================================================\n"
          ]
        }
      ],
      "source": [
        "norm = Normalizer()\n",
        "norm.fit(X_train['price'].values.reshape(1,-1))\n",
        "\n",
        "# Changing the shape so that the normalization happens for all the samples and not for a individual sample\n",
        "X_train_price_norm = norm.transform(X_train['price'].values.reshape(1,-1))\n",
        "X_test_price_norm = norm.transform(X_test['price'].values.reshape(1,-1))\n",
        "\n",
        "# Re-changing the shape so as to have one column and as many rows as the number of data_points \n",
        "X_train_price_norm = X_train_price_norm.reshape(-1,1)\n",
        "X_test_price_norm = X_test_price_norm.reshape(-1,1)\n",
        "\n",
        "print(\"After Vectorizations: \")\n",
        "print(X_train_price_norm.shape, y_train.shape)\n",
        "print(X_test_price_norm.shape, y_test.shape)\n",
        "print('='*100)"
      ]
    },
    {
      "cell_type": "markdown",
      "metadata": {
        "id": "B_sq6PQtDsMj"
      },
      "source": [
        "### 1.4.2 encoding numerical features: teacher_number_of_previously_posted_projects(Normalizing)"
      ]
    },
    {
      "cell_type": "code",
      "execution_count": null,
      "metadata": {
        "id": "ilVxdg0_DsMk",
        "outputId": "532c19ec-b10c-456d-e2d2-31813b7f66e4"
      },
      "outputs": [
        {
          "name": "stdout",
          "output_type": "stream",
          "text": [
            "After Vectorizations: \n",
            "(76473, 1) (76473,)\n",
            "(32775, 1) (32775,)\n",
            "====================================================================================================\n"
          ]
        }
      ],
      "source": [
        "norm1 = Normalizer()\n",
        "norm1.fit(X_train['teacher_number_of_previously_posted_projects'].values.reshape(1,-1))\n",
        "\n",
        "\n",
        "X_train_tnoppp_norm = norm1.transform(X_train['teacher_number_of_previously_posted_projects'].values.reshape(1,-1))\n",
        "X_test_tnoppp_norm = norm1.transform(X_test['teacher_number_of_previously_posted_projects'].values.reshape(1,-1))\n",
        "\n",
        "# Reshaping the vectors\n",
        "X_train_tnoppp_norm = X_train_tnoppp_norm.reshape(-1, 1)\n",
        "X_test_tnoppp_norm = X_test_tnoppp_norm.reshape(-1, 1)\n",
        "\n",
        "print(\"After Vectorizations: \")\n",
        "print(X_train_tnoppp_norm.shape, y_train.shape)\n",
        "print(X_test_tnoppp_norm.shape, y_test.shape)\n",
        "print('='*100)"
      ]
    },
    {
      "cell_type": "markdown",
      "metadata": {
        "id": "_LO7mSJSDsMk"
      },
      "source": [
        "### 1.4.3 encoding categorical features : school_state(ohe)"
      ]
    },
    {
      "cell_type": "code",
      "execution_count": null,
      "metadata": {
        "id": "TnXzl1PaDsMl",
        "outputId": "484b08a0-c4ec-4846-d2be-5022f13d14b8"
      },
      "outputs": [
        {
          "name": "stdout",
          "output_type": "stream",
          "text": [
            "After Vectorizations: \n",
            "(76473, 51) (76473,)\n",
            "(32775, 51) (32775,)\n",
            "====================================================================================================\n"
          ]
        }
      ],
      "source": [
        "ss = CountVectorizer(binary=True)\n",
        "ss.fit(X_train['school_state'].values)\n",
        "\n",
        "X_train_ss_ohe = ss.transform(X_train['school_state'].values)\n",
        "X_test_ss_ohe = ss.transform(X_test['school_state'].values)\n",
        "\n",
        "print(\"After Vectorizations: \")\n",
        "print(X_train_ss_ohe.shape, y_train.shape)\n",
        "print(X_test_ss_ohe.shape, y_test.shape)\n",
        "print('='*100)"
      ]
    },
    {
      "cell_type": "markdown",
      "metadata": {
        "id": "6Y-o62orDsMm"
      },
      "source": [
        "### 1.4.4 encoding categorical features : teacher_prefix"
      ]
    },
    {
      "cell_type": "code",
      "execution_count": null,
      "metadata": {
        "id": "SGvV9UnNDsMm",
        "outputId": "f45ec9e2-247e-434d-a9fe-5d5b41afded5"
      },
      "outputs": [
        {
          "name": "stdout",
          "output_type": "stream",
          "text": [
            "After Vectorizations: \n",
            "(76473, 5) (76473,)\n",
            "(32775, 5) (32775,)\n",
            "====================================================================================================\n"
          ]
        }
      ],
      "source": [
        "tp = CountVectorizer(binary=True)\n",
        "tp.fit(X_train['teacher_prefix'].values)\n",
        "\n",
        "X_train_tp_ohe = tp.transform(X_train['teacher_prefix'].values)\n",
        "X_test_tp_ohe = tp.transform(X_test['teacher_prefix'].values)\n",
        "\n",
        "print(\"After Vectorizations: \")\n",
        "print(X_train_tp_ohe.shape, y_train.shape)\n",
        "print(X_test_tp_ohe.shape, y_test.shape)\n",
        "print('='*100)"
      ]
    },
    {
      "cell_type": "markdown",
      "metadata": {
        "id": "erMJxTM6DsMn"
      },
      "source": [
        "### 1.4.5 encoding categorical features: project_grade_category"
      ]
    },
    {
      "cell_type": "code",
      "execution_count": null,
      "metadata": {
        "id": "52fQmMgLDsMn",
        "outputId": "9fe8ef65-5993-49d9-de3a-01de107f7653"
      },
      "outputs": [
        {
          "name": "stdout",
          "output_type": "stream",
          "text": [
            "After Vectorizations: \n",
            "(76473, 4) (76473,)\n",
            "(32775, 4) (32775,)\n",
            "====================================================================================================\n"
          ]
        }
      ],
      "source": [
        "pgc = CountVectorizer(binary=True)\n",
        "pgc.fit(X_train['project_grade_category'].values)\n",
        "\n",
        "X_train_pgc_ohe = pgc.transform(X_train['project_grade_category'].values)\n",
        "X_test_pgc_ohe = pgc.transform(X_test['project_grade_category'].values)\n",
        "\n",
        "print(\"After Vectorizations: \")\n",
        "print(X_train_pgc_ohe.shape, y_train.shape)\n",
        "print(X_test_pgc_ohe.shape, y_test.shape)\n",
        "print('='*100)"
      ]
    },
    {
      "cell_type": "markdown",
      "metadata": {
        "id": "f5-_taWyDsMo"
      },
      "source": [
        "### 1.4.6 encoding categorical features: clean_categories"
      ]
    },
    {
      "cell_type": "code",
      "execution_count": null,
      "metadata": {
        "id": "X52PxRCcDsMo",
        "outputId": "fc66b084-52c1-4f86-97db-7841bbe5c971"
      },
      "outputs": [
        {
          "name": "stdout",
          "output_type": "stream",
          "text": [
            "After Vectorizations: \n",
            "(76473, 9) (76473,)\n",
            "(32775, 9) (32775,)\n",
            "====================================================================================================\n"
          ]
        }
      ],
      "source": [
        "cc = CountVectorizer(binary=True)\n",
        "cc.fit(X_train['clean_categories'].values)\n",
        "\n",
        "X_train_cc_ohe = cc.transform(X_train['clean_categories'].values)\n",
        "X_test_cc_ohe = cc.transform(X_test['clean_categories'].values)\n",
        "\n",
        "print(\"After Vectorizations: \")\n",
        "print(X_train_cc_ohe.shape, y_train.shape)\n",
        "print(X_test_cc_ohe.shape, y_test.shape)\n",
        "print('='*100)"
      ]
    },
    {
      "cell_type": "markdown",
      "metadata": {
        "id": "73NOHVrQDsMp"
      },
      "source": [
        "### 1.4.7 encoding categorical features: clean_subcategories"
      ]
    },
    {
      "cell_type": "code",
      "execution_count": null,
      "metadata": {
        "id": "tB6NA5ILDsMp",
        "outputId": "bae28ae4-ce4e-4d58-c238-40216390f325"
      },
      "outputs": [
        {
          "name": "stdout",
          "output_type": "stream",
          "text": [
            "After Vectorizations: \n",
            "(76473, 30) (76473,)\n",
            "(32775, 30) (32775,)\n",
            "====================================================================================================\n"
          ]
        }
      ],
      "source": [
        "csc = CountVectorizer(binary=True)\n",
        "csc.fit(X_train['clean_subcategories'].values)\n",
        "\n",
        "X_train_csc_ohe = csc.transform(X_train['clean_subcategories'].values)\n",
        "X_test_csc_ohe = csc.transform(X_test['clean_subcategories'].values)\n",
        "\n",
        "print(\"After Vectorizations: \")\n",
        "print(X_train_csc_ohe.shape, y_train.shape)\n",
        "print(X_test_csc_ohe.shape, y_test.shape)\n",
        "print('='*100)"
      ]
    },
    {
      "cell_type": "markdown",
      "metadata": {
        "id": "yYHPYadYb3dh"
      },
      "source": [
        "<h2>1.5 Appling NB on different kind of featurization</h2>"
      ]
    },
    {
      "cell_type": "code",
      "execution_count": null,
      "metadata": {
        "id": "DNwqilFxb3di"
      },
      "outputs": [],
      "source": [
        "# please write all the code with proper documentation, and proper titles for each subsection\n",
        "# go through documentations and blogs before you start coding\n",
        "# first figure out what to do, and then think about how to do.\n",
        "# reading and understanding error messages will be very much helpfull in debugging your code\n",
        "# when you plot any graph make sure you use \n",
        "    # a. Title, that describes your plot, this will be very helpful to the reader\n",
        "    # b. Legends if needed\n",
        "    # c. X-axis label\n",
        "    # d. Y-axis label"
      ]
    },
    {
      "cell_type": "markdown",
      "metadata": {
        "id": "Eps3MA9gDsMq"
      },
      "source": [
        "## 1.5.1 Naive Bayes -  BoW_essay + Other features "
      ]
    },
    {
      "cell_type": "markdown",
      "metadata": {
        "id": "q8aaBKLkDsMr"
      },
      "source": [
        "### 1.5.1.1 Find the best hyperparameter for the MutinomialNB"
      ]
    },
    {
      "cell_type": "code",
      "execution_count": null,
      "metadata": {
        "id": "WncyS7dQDsMr",
        "outputId": "de754cf1-1981-4ec6-cdd9-a070b916e5e7"
      },
      "outputs": [
        {
          "data": {
            "image/png": "[encoded data removed]",
            "text/plain": [
              "<Figure size 432x288 with 1 Axes>"
            ]
          },
          "metadata": {
            "needs_background": "light"
          },
          "output_type": "display_data"
        }
      ],
      "source": [
        "# Stack all the train and test features into one variable and convert it to a sparse matrix \n",
        "X_tr = hstack((X_train_ss_ohe, X_train_tp_ohe, X_train_pgc_ohe, X_train_tnoppp_norm, X_train_cc_ohe, X_train_csc_ohe,X_train_essay_bow, X_train_price_norm)).tocsr()\n",
        "X_te = hstack((X_test_ss_ohe, X_test_tp_ohe, X_test_pgc_ohe, X_test_tnoppp_norm, X_test_cc_ohe, X_test_csc_ohe,X_test_essay_bow, X_test_price_norm)).tocsr()\n",
        "\n",
        "# Fit NaiveBayes model on the data\n",
        "nb = MultinomialNB(class_prior=None)\n",
        "\n",
        "# Define the hyper-parameters we want to check\n",
        "parameters = {'alpha':[0.00001,0.0005, 0.0001,0.005,0.001,0.05,0.01,0.1,0.5,1,5,10,50,100]}\n",
        "\n",
        "# Instantiate Grid-search to find the best hyperparameter\n",
        "clf = GridSearchCV(nb, parameters, cv=5, scoring='roc_auc', return_train_score=True)\n",
        "clf.fit(X_tr, y_train)  # fit the data\n",
        "\n",
        "# store the results in a data frame\n",
        "results = pd.DataFrame.from_dict(clf.cv_results_)\n",
        "results = results.sort_values(['param_alpha'])\n",
        "\n",
        "# converting alphas to log-space for easy visualization\n",
        "alpha = np.log10(results['param_alpha'].apply(float)).values\n",
        "\n",
        "# store the train and test scores\n",
        "train_auc = results['mean_train_score']\n",
        "train_auc_std = results['std_train_score']\n",
        "cv_auc = results['mean_test_score']\n",
        "cv_auc_std = results['std_test_score']\n",
        "\n",
        "\n",
        "# plot the Train and CV AUC score\n",
        "plt.plot(alpha, train_auc, label='TRAIN AUC')\n",
        "plt.gca().fill_between(alpha, train_auc - train_auc_std,train_auc + train_auc_std,alpha=0.2,color='darkblue')\n",
        "\n",
        "\n",
        "plt.plot(alpha, cv_auc, label='CV AUC')\n",
        "plt.gca().fill_between(alpha, cv_auc - cv_auc_std,cv_auc + cv_auc_std,alpha=0.2,color='darkgreen')\n",
        "\n",
        "\n",
        "\n",
        "plt.scatter(alpha, train_auc, label='TRAIN AUC points')\n",
        "plt.scatter(alpha, cv_auc, label='CV AUC points')\n",
        "plt.grid()\n",
        "plt.legend()\n",
        "plt.xlabel('Hyperparameter: \"log_alpha\"')\n",
        "plt.ylabel('AUC score')\n",
        "plt.title('AUC score VS log_alpha')\n",
        "plt.show();"
      ]
    },
    {
      "cell_type": "markdown",
      "metadata": {
        "id": "zrMZhTwyDsMs"
      },
      "source": [
        "### 1.5.1.2 Training BoW model with the best hyper-parameters"
      ]
    },
    {
      "cell_type": "code",
      "execution_count": null,
      "metadata": {
        "id": "wx2H3wZyDsMs",
        "outputId": "4e94508a-0929-490c-b9b4-1b8e031a3b81"
      },
      "outputs": [
        {
          "data": {
            "image/png": "[encoded data removed]",
            "text/plain": [
              "<Figure size 432x288 with 1 Axes>"
            ]
          },
          "metadata": {
            "needs_background": "light"
          },
          "output_type": "display_data"
        }
      ],
      "source": [
        "# The best value of alpha corresponds to log_alpha=0 i.e. alpha=1\n",
        "best_alpha = 1\n",
        "\n",
        "# Now we are going to finally bring all the features together to have the final X_train, X_test data.\n",
        "X_tr = hstack((X_train_ss_ohe,X_train_tp_ohe,X_train_pgc_ohe,X_train_tnoppp_norm,X_train_cc_ohe,X_train_csc_ohe,X_train_essay_bow,X_train_price_norm)).tocsr()\n",
        "X_te = hstack((X_test_ss_ohe, X_test_tp_ohe,X_test_pgc_ohe,X_test_tnoppp_norm,X_test_cc_ohe,X_test_csc_ohe,X_test_essay_bow,X_test_price_norm)).tocsr()\n",
        "\n",
        "\n",
        "# Train the Naive Bayes model with the best hyperparameters\n",
        "clf = MultinomialNB(alpha=1)\n",
        "clf.fit(X_tr,y_train)\n",
        "\n",
        "# Now predict the \"probabiltiy scores\" for the train and test data and then plot the ROC curve\n",
        "y_train_pred = clf.predict_proba(X_tr)\n",
        "y_train_pred_1 = y_train_pred[:,1]    # Storing the probabilities for class 1 only\n",
        "y_test_pred = clf.predict_proba(X_te)\n",
        "y_test_pred_1 = y_test_pred[:,1]      # Storing the probabilities for class 1 only\n",
        "\n",
        "# ROC curve - For this we need fpr, tpr values\n",
        "\n",
        "fpr_train,tpr_train, tr_thresholds = roc_curve(y_train, y_train_pred_1)\n",
        "fpr_test,tpr_test, te_thresholds = roc_curve(y_test, y_test_pred_1)\n",
        "\n",
        "# Plot the ROC curve\n",
        "plt.plot(fpr_train, tpr_train, label=\"train_AUC=\"+str(auc(fpr_train, tpr_train)))\n",
        "plt.plot(fpr_test, tpr_test, label=\"test_AUC=\"+str(auc(fpr_test, tpr_test)))\n",
        "plt.legend()\n",
        "plt.xlabel('FPR')\n",
        "plt.ylabel(\"TPR\")\n",
        "plt.grid()\n",
        "plt.show();"
      ]
    },
    {
      "cell_type": "code",
      "execution_count": null,
      "metadata": {
        "id": "d2oy-4r_DsMt"
      },
      "outputs": [],
      "source": [
        "# TEST AUC score when BoW vectorization is used\n",
        "bow_auc = auc(fpr_test, tpr_test)"
      ]
    },
    {
      "cell_type": "code",
      "execution_count": null,
      "metadata": {
        "id": "dQv5VDcYDsM7"
      },
      "outputs": [],
      "source": [
        "# Now find and plot the confusion matrix: For this we first need to find the best threshold for which the tpr*(1-fpr) is high\n",
        "\n",
        "# We will create a function which gives us the best threshold\n",
        "def find_best_threshold(threshold,fpr,tpr):\n",
        "    t = threshold[np.argmax(tpr*(1-fpr))]\n",
        "    print(\"The maximum values of tpr*(1-fpr)\",max(tpr*(1-fpr)), \"for thresold\", np.round(t,3))\n",
        "    return t\n",
        "\n",
        "# This function will predict the class labels for a given(best) threshold\n",
        "def predict_with_best_t(proba, threshold):\n",
        "    predictions = []\n",
        "    for i in proba:\n",
        "        if i>=threshold:\n",
        "            predictions.append(1)\n",
        "        else:\n",
        "            predictions.append(0)            \n",
        "    return predictions"
      ]
    },
    {
      "cell_type": "code",
      "execution_count": null,
      "metadata": {
        "id": "lckHirvtDsM7",
        "outputId": "77e74d24-f120-47e2-d3d3-9dc18bfe0a22"
      },
      "outputs": [
        {
          "name": "stdout",
          "output_type": "stream",
          "text": [
            "The maximum values of tpr*(1-fpr) 0.4961224042727509 for thresold 0.858\n",
            "Train Confusion Matrix\n",
            "[[ 8229  3350]\n",
            " [19592 45302]]\n",
            "Test Confusion Matrix\n",
            "[[ 3114  1849]\n",
            " [ 8944 18868]]\n"
          ]
        }
      ],
      "source": [
        "\n",
        "# Here we are storing the best thresold value\n",
        "best_t = find_best_threshold(tr_thresholds, fpr_train, tpr_train)\n",
        "\n",
        "# Use the best threshold value to predict the train data points and print the confusion matrix\n",
        "print(\"Train Confusion Matrix\")\n",
        "print(confusion_matrix(y_train, predict_with_best_t(y_train_pred_1, best_t)))\n",
        "\n",
        "# Similarly use the best threshold value to predict the train data points and print the confusion matrix\n",
        "print(\"Test Confusion Matrix\")\n",
        "print(confusion_matrix(y_test, predict_with_best_t(y_test_pred_1, best_t)))"
      ]
    },
    {
      "cell_type": "code",
      "execution_count": null,
      "metadata": {
        "id": "eTTiNomODsM8",
        "outputId": "fe6a515e-4899-4490-e233-94acafd65dea"
      },
      "outputs": [
        {
          "data": {
            "image/png": "[encoded data removed]",
            "text/plain": [
              "<Figure size 432x288 with 2 Axes>"
            ]
          },
          "metadata": {
            "needs_background": "light"
          },
          "output_type": "display_data"
        }
      ],
      "source": [
        "# Reference : https://stackoverflow.com/questions/61748441/how-to-fix-the-values-displayed-in-a-confusion-matrix-in-exponential-form-to-nor\n",
        "\n",
        "# Store the confusion matrix and use it to plot the heatmap\n",
        "cm=confusion_matrix(y_train, predict_with_best_t(y_train_pred_1, best_t))\n",
        "\n",
        "ax= plt.subplot();\n",
        "sns.heatmap(cm, annot=True,cmap='Blues',ax=ax,fmt='d');\n",
        "\n",
        "# labels, title and ticks\n",
        "ax.set_xlabel('Predicted labels');\n",
        "ax.set_ylabel('True labels'); \n",
        "ax.set_ylim(2.0, 0)\n",
        "ax.set_title('Train Confusion Matrix');\n",
        "ax.xaxis.set_ticklabels(['0','1']); \n",
        "ax.yaxis.set_ticklabels(['0','1']);"
      ]
    },
    {
      "cell_type": "code",
      "execution_count": null,
      "metadata": {
        "id": "V0_xCJy1DsM9",
        "outputId": "3e36d66f-64b1-4cbd-d973-e012e5a041f5"
      },
      "outputs": [
        {
          "data": {
            "image/png": "[encoded data removed]",
            "text/plain": [
              "<Figure size 432x288 with 2 Axes>"
            ]
          },
          "metadata": {
            "needs_background": "light"
          },
          "output_type": "display_data"
        }
      ],
      "source": [
        "# Reference: https://stackoverflow.com/questions/61748441/how-to-fix-the-values-displayed-in-a-confusion-matrix-in-exponential-form-to-nor\n",
        "\n",
        "# Store the confusion matrix and use it to plot the heatmap\n",
        "cm=confusion_matrix(y_test, predict_with_best_t(y_test_pred_1, best_t))\n",
        "\n",
        "ax= plt.subplot();\n",
        "sns.heatmap(cm, annot=True,cmap='Greens',ax=ax,fmt='d');\n",
        "\n",
        "# labels, title and ticks\n",
        "ax.set_xlabel('Predicted labels');\n",
        "ax.set_ylabel('True labels'); \n",
        "ax.set_ylim(2.0, 0)\n",
        "ax.set_title('Test Confusion Matrix');\n",
        "ax.xaxis.set_ticklabels(['0','1']); \n",
        "ax.yaxis.set_ticklabels(['0','1']);"
      ]
    },
    {
      "cell_type": "markdown",
      "metadata": {
        "id": "80RrsCf6DsM9"
      },
      "source": [
        "#### 1.5.1.1 Get Top-features for BoW implemented NB"
      ]
    },
    {
      "cell_type": "code",
      "execution_count": null,
      "metadata": {
        "id": "lN8hOPU0DsM-"
      },
      "outputs": [],
      "source": [
        "# Creating an empty list to store the feature names: The order of the features are as follows:\n",
        "# X_train_ss_ohe,X_train_tp_ohe,X_train_pgc_ohe,X_train_tnoppp_norm,X_train_cc_ohe,X_train_csc_ohe,X_train_essay_bow,\n",
        "# X_train_price_norm\n",
        "l = list()\n",
        "\n",
        "# Adding the feature names sequentially\n",
        "l.extend(ss.get_feature_names())\n",
        "l.extend(tp.get_feature_names())\n",
        "l.extend(pgc.get_feature_names())\n",
        "l.extend(['teacher_number_of_previously_posted_projects'])\n",
        "l.extend(cc.get_feature_names())\n",
        "l.extend(csc.get_feature_names())\n",
        "l.extend(bow.get_feature_names())\n",
        "l.extend(['price'])"
      ]
    },
    {
      "cell_type": "code",
      "execution_count": null,
      "metadata": {
        "id": "tOsWx9XyDsM-"
      },
      "outputs": [],
      "source": [
        "# Now find the top 20 features for positive and negative classes\n",
        "feature_log_proba_class0 = clf.feature_log_prob_[0]\n",
        "feature_log_proba_class1 = clf.feature_log_prob_[1]"
      ]
    },
    {
      "cell_type": "markdown",
      "metadata": {
        "id": "Alu1ktIADsM-"
      },
      "source": [
        "#### Top features for the positive class"
      ]
    },
    {
      "cell_type": "code",
      "execution_count": null,
      "metadata": {
        "id": "ieieC5PjDsM-",
        "outputId": "14826bcb-62de-4674-814b-8b0c0e99d50d"
      },
      "outputs": [
        {
          "name": "stdout",
          "output_type": "stream",
          "text": [
            "1. students\n",
            "2. school\n",
            "3. my\n",
            "4. learning\n",
            "5. classroom\n",
            "6. the\n",
            "7. they\n",
            "8. not\n",
            "9. learn\n",
            "10. help\n",
            "11. many\n",
            "12. nannan\n",
            "13. we\n",
            "14. need\n",
            "15. work\n",
            "16. reading\n",
            "17. use\n",
            "18. love\n",
            "19. day\n",
            "20. able\n"
          ]
        }
      ],
      "source": [
        "# Now we need to perform an argsort for the positive class\n",
        "class1_feature_indices = np.argsort(feature_log_proba_class1)[::-1]\n",
        "for pos,i in enumerate(class1_feature_indices[:20]):\n",
        "    print(f'{pos+1}. {l[i]}')"
      ]
    },
    {
      "cell_type": "markdown",
      "metadata": {
        "id": "mMvRl-h3DsM_"
      },
      "source": [
        "#### Top features for the negative class"
      ]
    },
    {
      "cell_type": "code",
      "execution_count": null,
      "metadata": {
        "id": "9uwAfkFNDsM_",
        "outputId": "0066816a-4fc3-4e23-abb1-8266494a258a"
      },
      "outputs": [
        {
          "name": "stdout",
          "output_type": "stream",
          "text": [
            "1. students\n",
            "2. school\n",
            "3. learning\n",
            "4. my\n",
            "5. classroom\n",
            "6. not\n",
            "7. learn\n",
            "8. they\n",
            "9. help\n",
            "10. the\n",
            "11. nannan\n",
            "12. many\n",
            "13. we\n",
            "14. need\n",
            "15. work\n",
            "16. come\n",
            "17. love\n",
            "18. able\n",
            "19. skills\n",
            "20. reading\n"
          ]
        }
      ],
      "source": [
        "# Now we need to perform an argsort for the negative class\n",
        "class0_feature_indices = np.argsort(feature_log_proba_class0)[::-1]\n",
        "for pos,i in enumerate(class0_feature_indices[:20]):\n",
        "    print(f'{pos+1}. {l[i]}')"
      ]
    },
    {
      "cell_type": "markdown",
      "metadata": {
        "id": "BZixl-vNDsM_"
      },
      "source": [
        "## 1.5.2 Naive Bayes - TFIDF_essay + other features"
      ]
    },
    {
      "cell_type": "markdown",
      "metadata": {
        "id": "xD4S5xT-DsNA"
      },
      "source": [
        "### 1.5.2.1 Find the best alpha for MultinomialNB"
      ]
    },
    {
      "cell_type": "code",
      "execution_count": null,
      "metadata": {
        "id": "x8w0b-APDsNA",
        "outputId": "c81e2a76-bc96-4f1b-a4d8-be90d1599bb1"
      },
      "outputs": [
        {
          "data": {
            "image/png": "[encoded data removed]",
            "text/plain": [
              "<Figure size 432x288 with 1 Axes>"
            ]
          },
          "metadata": {
            "needs_background": "light"
          },
          "output_type": "display_data"
        }
      ],
      "source": [
        "# Stack all the train and test features into one variable and convert it to a sparse matrix\n",
        "X_tr = hstack((X_train_ss_ohe, X_train_tp_ohe, X_train_pgc_ohe, X_train_tnoppp_norm, X_train_cc_ohe, X_train_csc_ohe,X_train_essay_tfidf, X_train_price_norm)).tocsr()\n",
        "X_te = hstack((X_test_ss_ohe, X_test_tp_ohe, X_test_pgc_ohe, X_test_tnoppp_norm, X_test_cc_ohe, X_test_csc_ohe,X_test_essay_tfidf, X_test_price_norm)).tocsr()\n",
        "\n",
        "# Applying NaiveBayes algorithm\n",
        "nb = MultinomialNB(class_prior=None)\n",
        "parameters = {'alpha':[0.00001,0.0005, 0.0001,0.005,0.001,0.05,0.01,0.1,0.5,1,5,10,50,100]}\n",
        "\n",
        "# using grid search to find the best hyperparameter\n",
        "clf = GridSearchCV(nb, parameters, cv=5, scoring='roc_auc', return_train_score=True)\n",
        "clf.fit(X_tr, y_train)\n",
        "\n",
        "# Store the results in a dataframe\n",
        "results = pd.DataFrame.from_dict(clf.cv_results_)\n",
        "results = results.sort_values(['param_alpha'])\n",
        "\n",
        "# converting alphas to log space for easy visualization\n",
        "alpha = np.log10(results['param_alpha'].apply(float)).values\n",
        "train_auc = results['mean_train_score']\n",
        "train_auc_std = results['std_train_score']\n",
        "cv_auc = results['mean_test_score']\n",
        "cv_auc_std = results['std_test_score']\n",
        "\n",
        "\n",
        "# plot the Train and CV AUC score\n",
        "plt.plot(alpha, train_auc, label='TRAIN AUC')\n",
        "plt.gca().fill_between(alpha, train_auc - train_auc_std,train_auc + train_auc_std,alpha=0.2,color='darkblue')\n",
        "\n",
        "\n",
        "plt.plot(alpha, cv_auc, label='CV AUC')\n",
        "plt.gca().fill_between(alpha, cv_auc - cv_auc_std,cv_auc + cv_auc_std,alpha=0.2,color='darkgreen')\n",
        "\n",
        "plt.scatter(alpha, train_auc, label='TRAIN AUC points')\n",
        "plt.scatter(alpha, cv_auc, label='CV AUC points')\n",
        "plt.grid()\n",
        "plt.legend()\n",
        "plt.xlabel('Hyperparameter: \"log_alpha\"')\n",
        "plt.ylabel('AUC score')\n",
        "plt.title('AUC score VS log_alpha')\n",
        "plt.show();"
      ]
    },
    {
      "cell_type": "markdown",
      "metadata": {
        "id": "UqRiZVAwDsNA"
      },
      "source": [
        "### 1.5.2.2 Train Using the best alpha"
      ]
    },
    {
      "cell_type": "code",
      "execution_count": null,
      "metadata": {
        "id": "yUo83mDqDsNB",
        "outputId": "a2b76d00-5ce2-4ae3-8fc4-9b065ea26dd1"
      },
      "outputs": [
        {
          "data": {
            "image/png": "[encoded data removed]",
            "text/plain": [
              "<Figure size 432x288 with 1 Axes>"
            ]
          },
          "metadata": {
            "needs_background": "light"
          },
          "output_type": "display_data"
        }
      ],
      "source": [
        "# The best value of alpha corresponds to log_alpha=-1 i.e. alpha=0.1\n",
        "best_alpha = 0.1\n",
        "\n",
        "# Append all the features together\n",
        "X_tr = hstack((X_train_ss_ohe, X_train_tp_ohe, X_train_pgc_ohe, X_train_tnoppp_norm, X_train_cc_ohe, X_train_csc_ohe,X_train_essay_tfidf, X_train_price_norm)).tocsr()\n",
        "X_te = hstack((X_test_ss_ohe, X_test_tp_ohe, X_test_pgc_ohe, X_test_tnoppp_norm, X_test_cc_ohe, X_test_csc_ohe,X_test_essay_tfidf, X_test_price_norm)).tocsr()\n",
        "\n",
        "# Fit the data into the model\n",
        "clf = MultinomialNB(alpha=best_alpha)\n",
        "clf.fit(X_tr, y_train)\n",
        "\n",
        "# Predict on behalf of the fitted data\n",
        "y_train_pred = clf.predict_proba(X_tr)\n",
        "y_train_pred_1 = y_train_pred[:,1]\n",
        "y_test_pred = clf.predict_proba(X_te)\n",
        "y_test_pred_1 = y_test_pred[:,1]\n",
        "\n",
        "# Find the fpr, tpr values\n",
        "fpr_train, tpr_train, tr_thresholds = roc_curve(y_train, y_train_pred_1)\n",
        "fpr_test, tpr_test, te_thresholds = roc_curve(y_test, y_test_pred_1)\n",
        "\n",
        "# Plot the ROC curve\n",
        "plt.plot(fpr_train, tpr_train, label='Train_AUC='+str(auc(fpr_train, tpr_train)))\n",
        "plt.plot(fpr_test, tpr_test, label='Test_AUC='+str(auc(fpr_test, tpr_test)))\n",
        "plt.legend()\n",
        "plt.grid()\n",
        "plt.xlabel('FPR values')\n",
        "plt.ylabel('TPR values')\n",
        "plt.title('Train and Test ROC curve')\n",
        "plt.show();"
      ]
    },
    {
      "cell_type": "code",
      "execution_count": null,
      "metadata": {
        "id": "qUsSzjejDsNB"
      },
      "outputs": [],
      "source": [
        "# TEST AUC score when tfidf vectorization is used\n",
        "tfidf_auc = auc(fpr_test, tpr_test)"
      ]
    },
    {
      "cell_type": "code",
      "execution_count": null,
      "metadata": {
        "id": "y4nQ4qWGDsNB",
        "outputId": "e0c811ce-077a-4109-d9b7-a52e9ee67a78"
      },
      "outputs": [
        {
          "name": "stdout",
          "output_type": "stream",
          "text": [
            "The maximum values of tpr*(1-fpr) 0.5808936519896326 for thresold 0.848\n",
            "Train Confusion Matrix\n",
            "[[ 8965  2614]\n",
            " [16206 48688]]\n",
            "Test Confusion Matrix\n",
            "[[ 2713  2250]\n",
            " [ 7979 19833]]\n"
          ]
        }
      ],
      "source": [
        "# Find the best threshold and then use it to predict the class labels\n",
        "best_t = find_best_threshold(tr_thresholds, fpr_train, tpr_train)\n",
        "\n",
        "\n",
        "# Use the best threshold value to predict the train data points and print the confusion matrix\n",
        "print(\"Train Confusion Matrix\")\n",
        "print(confusion_matrix(y_train, predict_with_best_t(y_train_pred_1, best_t)))\n",
        "\n",
        "# Similarly use the best threshold value to predict the train data points and print the confusion matrix\n",
        "print(\"Test Confusion Matrix\")\n",
        "print(confusion_matrix(y_test, predict_with_best_t(y_test_pred_1, best_t)))"
      ]
    },
    {
      "cell_type": "code",
      "execution_count": null,
      "metadata": {
        "id": "StQ7KGSaDsNC",
        "outputId": "d068f6f0-31a6-4134-a647-18eede58b9b2"
      },
      "outputs": [
        {
          "data": {
            "image/png": "[encoded data removed]",
            "text/plain": [
              "<Figure size 432x288 with 2 Axes>"
            ]
          },
          "metadata": {
            "needs_background": "light"
          },
          "output_type": "display_data"
        }
      ],
      "source": [
        "# Store the confusion matrix and use it to plot the heatmap\n",
        "cm=confusion_matrix(y_train, predict_with_best_t(y_train_pred_1, best_t))\n",
        "\n",
        "ax= plt.subplot();\n",
        "sns.heatmap(cm, annot=True,cmap='Blues',ax=ax,fmt='d');\n",
        "\n",
        "# labels, title and ticks\n",
        "ax.set_xlabel('Predicted labels');\n",
        "ax.set_ylabel('True labels'); \n",
        "ax.set_ylim(2.0, 0)\n",
        "ax.set_title('Train Confusion Matrix');\n",
        "ax.xaxis.set_ticklabels(['0','1']); \n",
        "ax.yaxis.set_ticklabels(['0','1']);"
      ]
    },
    {
      "cell_type": "code",
      "execution_count": null,
      "metadata": {
        "id": "vYqaPBEbDsND",
        "outputId": "11d59c4a-c56b-4742-f266-6656a4ab18e5"
      },
      "outputs": [
        {
          "data": {
            "image/png": "[encoded data removed]",
            "text/plain": [
              "<Figure size 432x288 with 2 Axes>"
            ]
          },
          "metadata": {
            "needs_background": "light"
          },
          "output_type": "display_data"
        }
      ],
      "source": [
        "cm=confusion_matrix(y_test, predict_with_best_t(y_test_pred_1, best_t))\n",
        "\n",
        "ax= plt.subplot();\n",
        "sns.heatmap(cm, annot=True,cmap='Greens',ax=ax,fmt='d');\n",
        "\n",
        "# labels, title and ticks\n",
        "ax.set_xlabel('Predicted labels');\n",
        "ax.set_ylabel('True labels'); \n",
        "ax.set_ylim(2.0, 0)\n",
        "ax.set_title('Test Confusion Matrix');\n",
        "ax.xaxis.set_ticklabels(['0','1']); \n",
        "ax.yaxis.set_ticklabels(['0','1']);"
      ]
    },
    {
      "cell_type": "markdown",
      "metadata": {
        "id": "oHsAZoTpDsND"
      },
      "source": [
        "#### 1.5.2.1 Get top most features for TFIDF applied NB"
      ]
    },
    {
      "cell_type": "code",
      "execution_count": null,
      "metadata": {
        "id": "dBuoCoKzDsND"
      },
      "outputs": [],
      "source": [
        "# Creating an empty list to store the feature names: The order of the features are as follows:\n",
        "# X_train_ss_ohe, X_train_tp_ohe, X_train_pgc_ohe, X_train_tnoppp_norm, X_train_cc_ohe, X_train_csc_ohe,X_train_essay_tfidf,\n",
        "# X_train_price_norm\n",
        "l = list()"
      ]
    },
    {
      "cell_type": "code",
      "execution_count": null,
      "metadata": {
        "id": "RwOM_nRRDsNE"
      },
      "outputs": [],
      "source": [
        "# Adding the feature names sequentially\n",
        "\n",
        "l.extend(ss.get_feature_names())\n",
        "l.extend(tp.get_feature_names())\n",
        "l.extend(pgc.get_feature_names())\n",
        "l.extend(['teacher_number_of_previously_posted_projects'])\n",
        "l.extend(cc.get_feature_names())\n",
        "l.extend(csc.get_feature_names())\n",
        "l.extend(tfidf.get_feature_names())\n",
        "l.extend(['price'])\n"
      ]
    },
    {
      "cell_type": "code",
      "execution_count": null,
      "metadata": {
        "id": "HXRi4Mm9DsNE"
      },
      "outputs": [],
      "source": [
        "# Now find the top 20 features for positive and negative classes\n",
        "feature_log_proba_class0 = clf.feature_log_prob_[0]\n",
        "feature_log_proba_class1 = clf.feature_log_prob_[1]"
      ]
    },
    {
      "cell_type": "markdown",
      "metadata": {
        "id": "w8sI0o-GDsNE"
      },
      "source": [
        "#### Top 20 features for the positive class"
      ]
    },
    {
      "cell_type": "code",
      "execution_count": null,
      "metadata": {
        "id": "sUg23rg2DsNE",
        "outputId": "1059eb42-654e-4d3e-be61-ea67f79801e3"
      },
      "outputs": [
        {
          "name": "stdout",
          "output_type": "stream",
          "text": [
            "1. mrs\n",
            "2. literacy_language\n",
            "3. grades_prek_2\n",
            "4. math_science\n",
            "5. ms\n",
            "6. grades_3_5\n",
            "7. literacy\n",
            "8. mathematics\n",
            "9. literature_writing\n",
            "10. grades_6_8\n",
            "11. ca\n",
            "12. health_sports\n",
            "13. specialneeds\n",
            "14. specialneeds\n",
            "15. appliedlearning\n",
            "16. grades_9_12\n",
            "17. mr\n",
            "18. appliedsciences\n",
            "19. health_wellness\n",
            "20. music_arts\n"
          ]
        }
      ],
      "source": [
        "# Now we need to perform an argsort for the positive class\n",
        "class1_feature_indices = np.argsort(feature_log_proba_class1)[::-1]\n",
        "for pos,i in enumerate(class1_feature_indices[:20]):\n",
        "    print(f'{pos+1}. {l[i]}')"
      ]
    },
    {
      "cell_type": "markdown",
      "metadata": {
        "id": "jqNpcZCFDsNF"
      },
      "source": [
        "#### Top 20 features for the Negative class"
      ]
    },
    {
      "cell_type": "code",
      "execution_count": null,
      "metadata": {
        "id": "5NH1hYF2DsNF",
        "outputId": "780fc9ed-a923-4eea-edc6-d9a70d095435"
      },
      "outputs": [
        {
          "name": "stdout",
          "output_type": "stream",
          "text": [
            "1. mrs\n",
            "2. literacy_language\n",
            "3. grades_prek_2\n",
            "4. math_science\n",
            "5. ms\n",
            "6. grades_3_5\n",
            "7. literacy\n",
            "8. mathematics\n",
            "9. literature_writing\n",
            "10. grades_6_8\n",
            "11. specialneeds\n",
            "12. specialneeds\n",
            "13. ca\n",
            "14. health_sports\n",
            "15. appliedlearning\n",
            "16. appliedsciences\n",
            "17. grades_9_12\n",
            "18. mr\n",
            "19. music_arts\n",
            "20. tx\n"
          ]
        }
      ],
      "source": [
        "# Now we need to perform an argsort for the positive class\n",
        "class0_feature_indices = np.argsort(feature_log_proba_class0)[::-1]\n",
        "for pos,i in enumerate(class0_feature_indices[:20]):\n",
        "    print(f'{pos+1}. {l[i]}')"
      ]
    },
    {
      "cell_type": "markdown",
      "metadata": {
        "id": "lS9hIHdib3dp"
      },
      "source": [
        "<h1>3. Summary</h1>\n"
      ]
    },
    {
      "cell_type": "code",
      "execution_count": null,
      "metadata": {
        "id": "JE8eWUKYDsNG",
        "outputId": "863edd92-61d4-4358-e67d-5798be7d4458"
      },
      "outputs": [
        {
          "name": "stdout",
          "output_type": "stream",
          "text": [
            "+------------+-------------------------+----------------------------------------------+--------------------+\n",
            "| Vectorizer |          Model          |               Hyper-parameter                |        AUC         |\n",
            "+------------+-------------------------+----------------------------------------------+--------------------+\n",
            "|    BoW     | Multinomial Naive Bayes |  ngram_range=(1,1),max_features=15k,alpha=1  | 0.7045663329318679 |\n",
            "|   TFIDF    | Multinomial Naive Bayes | ngram_range=(1,2),max_features=75k,alpha=0.1 | 0.6923331893752876 |\n",
            "+------------+-------------------------+----------------------------------------------+--------------------+\n"
          ]
        }
      ],
      "source": [
        "x = PrettyTable()\n",
        "x = PrettyTable([\"Vectorizer\", \"Model\", \"Hyper-parameter\", \"AUC\"])\n",
        "\n",
        "row = ['BoW', 'Multinomial Naive Bayes', 'ngram_range=(1,1),max_features=15k,alpha=1', bow_auc]\n",
        "x.add_row(row)\n",
        "\n",
        "row = ['TFIDF', 'Multinomial Naive Bayes', 'ngram_range=(1,2),max_features=75k,alpha=0.1', tfidf_auc]\n",
        "x.add_row(row)\n",
        "\n",
        "print(x)"
      ]
    }
  ],
  "metadata": {
    "colab": {
      "provenance": []
    },
    "kernelspec": {
      "display_name": "Python 3",
      "language": "python",
      "name": "python3"
    },
    "language_info": {
      "codemirror_mode": {
        "name": "ipython",
        "version": 3
      },
      "file_extension": ".py",
      "mimetype": "text/x-python",
      "name": "python",
      "nbconvert_exporter": "python",
      "pygments_lexer": "ipython3",
      "version": "3.7.3"
    }
  },
  "nbformat": 4,
  "nbformat_minor": 0
}