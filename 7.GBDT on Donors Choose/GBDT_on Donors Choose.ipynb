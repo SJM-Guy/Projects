{
  "cells": [
    {
      "cell_type": "markdown",
      "metadata": {
        "id": "8wqapAXjsc24"
      },
      "source": [
        "# GBDT on Donors Choose Dataset"
      ]
    },
    {
      "cell_type": "code",
      "execution_count": null,
      "metadata": {
        "colab": {
          "base_uri": "https://localhost:8080/"
        },
        "id": "vgYGospBQFtA",
        "outputId": "891b8e62-63ac-4aac-db7b-4b701e00d002"
      },
      "outputs": [
        {
          "name": "stderr",
          "output_type": "stream",
          "text": [
            "[nltk_data] Downloading package vader_lexicon to /root/nltk_data...\n"
          ]
        }
      ],
      "source": [
        "import nltk\n",
        "from nltk.sentiment.vader import SentimentIntensityAnalyzer\n",
        "nltk.download('vader_lexicon')\n",
        "import pandas as pd\n",
        "from sklearn.feature_extraction.text import TfidfVectorizer\n",
        "import pickle\n",
        "from tqdm import tqdm\n",
        "import numpy as np\n",
        "from scipy.sparse import hstack\n",
        "from xgboost import XGBClassifier\n",
        "\n",
        "# importing the required packages\n",
        "\n",
        "from sklearn.model_selection import train_test_split\n",
        "from xgboost import XGBClassifier\n",
        "from sklearn.model_selection import GridSearchCV\n",
        "from sklearn.model_selection import RandomizedSearchCV\n",
        "from sklearn.metrics import roc_auc_score\n",
        "\n",
        "\n",
        "# Load all the libraries used in this notebook\n",
        "from scipy.sparse import hstack\n",
        "from tqdm import tqdm\n",
        "from sklearn.metrics import roc_curve,auc\n",
        "from sklearn.metrics import confusion_matrix\n",
        "\n",
        "\n",
        "import seaborn as sns\n",
        "import matplotlib.pyplot as plt\n",
        "from prettytable import PrettyTable\n",
        "\n",
        "import warnings\n",
        "warnings.filterwarnings('ignore')\n"
      ]
    },
    {
      "cell_type": "code",
      "execution_count": null,
      "metadata": {
        "colab": {
          "base_uri": "https://localhost:8080/"
        },
        "id": "sWF2Vt5ilOVz",
        "outputId": "52f7968b-66a0-4cdb-c9bb-85a373cb501a"
      },
      "outputs": [
        {
          "name": "stdout",
          "output_type": "stream",
          "text": [
            "Mounted at /content/drive\n"
          ]
        }
      ],
      "source": [
        "\n",
        "from google.colab import drive\n",
        "drive.mount('/content/drive')"
      ]
    },
    {
      "cell_type": "markdown",
      "metadata": {
        "id": "3KwfGufDsc3D"
      },
      "source": [
        "<ol>\n",
        "    <li><strong>We are goinf to apply GBDT on these feature sets</strong>\n",
        "        <ul>\n",
        "            <li><font color='red'>Set 1</font>: categorical(instead of one hot encoding, we are going to try response coding (where we use probability values), numerical features + project_title(TFIDF)+  preprocessed_eassay (TFIDF)+sentiment Score of eassay</li>\n",
        "            <li><font color='red'>Set 2</font>: categorical(instead of one hot encoding, try response coding (where we use probability values), numerical features + project_title(TFIDF W2V)+  preprocessed_eassay (TFIDF W2V)</li>        \n",
        "    </li>\n",
        "    <li> Here in response encoding we need to apply the <strong>laplase smoothing</strong> value for test set. Laplase smoothing means, if test point is present in test but not in train then we need to apply default 0.5 as probability value for that data point </li>\n",
        "    <li>We are going to use atleast <strong> 35k </strong> data points </li></ul>\n",
        "    <li><strong>The hyper paramter tuning (Consider any two hyper parameters)</strong>\n",
        "        <ul>\n",
        "    <li>We will find the best hyper parameter which will give the maximum AUC value</li>\n",
        "    <li>we are going to find the best hyper paramter using k-fold cross validation using gridsearch cv or randomsearch cv</li>\n",
        "        </ul>\n",
        "    </li>"
      ]
    },
    {
      "cell_type": "code",
      "execution_count": null,
      "metadata": {
        "colab": {
          "base_uri": "https://localhost:8080/"
        },
        "id": "iffa2_WGsc3H",
        "outputId": "2bf52d27-2c4e-4159-ae1c-35a5f2be0bf1"
      },
      "outputs": [
        {
          "name": "stderr",
          "output_type": "stream",
          "text": [
            "[nltk_data] Downloading package vader_lexicon to /root/nltk_data...\n"
          ]
        },
        {
          "name": "stdout",
          "output_type": "stream",
          "text": [
            "sentiment score for sentence 1 {'neg': 0.0, 'neu': 0.213, 'pos': 0.787, 'compound': 0.5719}\n",
            "sentiment score for sentence 2 {'neg': 0.756, 'neu': 0.244, 'pos': 0.0, 'compound': -0.4767}\n",
            "sentiment score for sentence 3 {'neg': 0.0, 'neu': 1.0, 'pos': 0.0, 'compound': 0.0}\n"
          ]
        }
      ],
      "source": [
        "import nltk\n",
        "from nltk.sentiment.vader import SentimentIntensityAnalyzer\n",
        "nltk.download('vader_lexicon')\n",
        "\n",
        "sid = SentimentIntensityAnalyzer()\n",
        "\n",
        "sample_sentence_1='I am happy.'\n",
        "ss_1 = sid.polarity_scores(sample_sentence_1)\n",
        "print('sentiment score for sentence 1',ss_1)\n",
        "\n",
        "sample_sentence_2='I am sad.'\n",
        "ss_2 = sid.polarity_scores(sample_sentence_2)\n",
        "print('sentiment score for sentence 2',ss_2)\n",
        "\n",
        "sample_sentence_3='I am going to New Delhi tommorow.'\n",
        "ss_3 = sid.polarity_scores(sample_sentence_3)\n",
        "print('sentiment score for sentence 3',ss_3)\n"
      ]
    },
    {
      "cell_type": "markdown",
      "metadata": {
        "id": "BOyTl7oKsc3W"
      },
      "source": [
        "<h1>1. GBDT (xgboost/lightgbm) </h1>"
      ]
    },
    {
      "cell_type": "markdown",
      "metadata": {
        "id": "VWge-b2Zsc3Z"
      },
      "source": [
        "## 1.1 Loading Data"
      ]
    },
    {
      "cell_type": "code",
      "execution_count": null,
      "metadata": {
        "id": "WDZFu6-usc3d"
      },
      "outputs": [],
      "source": [
        "import pandas as pd\n",
        "data = pd.read_csv('/content/drive/MyDrive/11_GBDT_on_DonorChoose_Dataset/11_Donors_choose_GBDT/preprocessed_data.csv')"
      ]
    },
    {
      "cell_type": "code",
      "execution_count": null,
      "metadata": {
        "colab": {
          "base_uri": "https://localhost:8080/",
          "height": 704
        },
        "id": "v5sXs5VjkpRN",
        "outputId": "e74efad7-136b-42ad-cce8-b84156601f57"
      },
      "outputs": [
        {
          "data": {
            "text/html": [
              "\n",
              "  <div id=\"df-aaa4bc55-aa73-4e59-a94d-90ad2dac300a\">\n",
              "    <div class=\"colab-df-container\">\n",
              "      <div>\n",
              "<style scoped>\n",
              "    .dataframe tbody tr th:only-of-type {\n",
              "        vertical-align: middle;\n",
              "    }\n",
              "\n",
              "    .dataframe tbody tr th {\n",
              "        vertical-align: top;\n",
              "    }\n",
              "\n",
              "    .dataframe thead th {\n",
              "        text-align: right;\n",
              "    }\n",
              "</style>\n",
              "<table border=\"1\" class=\"dataframe\">\n",
              "  <thead>\n",
              "    <tr style=\"text-align: right;\">\n",
              "      <th></th>\n",
              "      <th>school_state</th>\n",
              "      <th>teacher_prefix</th>\n",
              "      <th>project_grade_category</th>\n",
              "      <th>teacher_number_of_previously_posted_projects</th>\n",
              "      <th>project_is_approved</th>\n",
              "      <th>clean_categories</th>\n",
              "      <th>clean_subcategories</th>\n",
              "      <th>essay</th>\n",
              "      <th>price</th>\n",
              "    </tr>\n",
              "  </thead>\n",
              "  <tbody>\n",
              "    <tr>\n",
              "      <th>0</th>\n",
              "      <td>ca</td>\n",
              "      <td>mrs</td>\n",
              "      <td>grades_prek_2</td>\n",
              "      <td>53</td>\n",
              "      <td>1</td>\n",
              "      <td>math_science</td>\n",
              "      <td>appliedsciences health_lifescience</td>\n",
              "      <td>i fortunate enough use fairy tale stem kits cl...</td>\n",
              "      <td>725.05</td>\n",
              "    </tr>\n",
              "    <tr>\n",
              "      <th>1</th>\n",
              "      <td>ut</td>\n",
              "      <td>ms</td>\n",
              "      <td>grades_3_5</td>\n",
              "      <td>4</td>\n",
              "      <td>1</td>\n",
              "      <td>specialneeds</td>\n",
              "      <td>specialneeds</td>\n",
              "      <td>imagine 8 9 years old you third grade classroo...</td>\n",
              "      <td>213.03</td>\n",
              "    </tr>\n",
              "    <tr>\n",
              "      <th>2</th>\n",
              "      <td>ca</td>\n",
              "      <td>mrs</td>\n",
              "      <td>grades_prek_2</td>\n",
              "      <td>10</td>\n",
              "      <td>1</td>\n",
              "      <td>literacy_language</td>\n",
              "      <td>literacy</td>\n",
              "      <td>having class 24 students comes diverse learner...</td>\n",
              "      <td>329.00</td>\n",
              "    </tr>\n",
              "    <tr>\n",
              "      <th>3</th>\n",
              "      <td>ga</td>\n",
              "      <td>mrs</td>\n",
              "      <td>grades_prek_2</td>\n",
              "      <td>2</td>\n",
              "      <td>1</td>\n",
              "      <td>appliedlearning</td>\n",
              "      <td>earlydevelopment</td>\n",
              "      <td>i recently read article giving students choice...</td>\n",
              "      <td>481.04</td>\n",
              "    </tr>\n",
              "    <tr>\n",
              "      <th>4</th>\n",
              "      <td>wa</td>\n",
              "      <td>mrs</td>\n",
              "      <td>grades_3_5</td>\n",
              "      <td>2</td>\n",
              "      <td>1</td>\n",
              "      <td>literacy_language</td>\n",
              "      <td>literacy</td>\n",
              "      <td>my students crave challenge eat obstacles brea...</td>\n",
              "      <td>17.74</td>\n",
              "    </tr>\n",
              "  </tbody>\n",
              "</table>\n",
              "</div>\n",
              "      <button class=\"colab-df-convert\" onclick=\"convertToInteractive('df-aaa4bc55-aa73-4e59-a94d-90ad2dac300a')\"\n",
              "              title=\"Convert this dataframe to an interactive table.\"\n",
              "              style=\"display:none;\">\n",
              "        \n",
              "  <svg xmlns=\"http://www.w3.org/2000/svg\" height=\"24px\"viewBox=\"0 0 24 24\"\n",
              "       width=\"24px\">\n",
              "    <path d=\"M0 0h24v24H0V0z\" fill=\"none\"/>\n",
              "    <path d=\"M18.56 5.44l.94 2.06.94-2.06 2.06-.94-2.06-.94-.94-2.06-.94 2.06-2.06.94zm-11 1L8.5 8.5l.94-2.06 2.06-.94-2.06-.94L8.5 2.5l-.94 2.06-2.06.94zm10 10l.94 2.06.94-2.06 2.06-.94-2.06-.94-.94-2.06-.94 2.06-2.06.94z\"/><path d=\"M17.41 7.96l-1.37-1.37c-.4-.4-.92-.59-1.43-.59-.52 0-1.04.2-1.43.59L10.3 9.45l-7.72 7.72c-.78.78-.78 2.05 0 2.83L4 21.41c.39.39.9.59 1.41.59.51 0 1.02-.2 1.41-.59l7.78-7.78 2.81-2.81c.8-.78.8-2.07 0-2.86zM5.41 20L4 18.59l7.72-7.72 1.47 1.35L5.41 20z\"/>\n",
              "  </svg>\n",
              "      </button>\n",
              "      \n",
              "  <style>\n",
              "    .colab-df-container {\n",
              "      display:flex;\n",
              "      flex-wrap:wrap;\n",
              "      gap: 12px;\n",
              "    }\n",
              "\n",
              "    .colab-df-convert {\n",
              "      background-color: #E8F0FE;\n",
              "      border: none;\n",
              "      border-radius: 50%;\n",
              "      cursor: pointer;\n",
              "      display: none;\n",
              "      fill: #1967D2;\n",
              "      height: 32px;\n",
              "      padding: 0 0 0 0;\n",
              "      width: 32px;\n",
              "    }\n",
              "\n",
              "    .colab-df-convert:hover {\n",
              "      background-color: #E2EBFA;\n",
              "      box-shadow: 0px 1px 2px rgba(60, 64, 67, 0.3), 0px 1px 3px 1px rgba(60, 64, 67, 0.15);\n",
              "      fill: #174EA6;\n",
              "    }\n",
              "\n",
              "    [theme=dark] .colab-df-convert {\n",
              "      background-color: #3B4455;\n",
              "      fill: #D2E3FC;\n",
              "    }\n",
              "\n",
              "    [theme=dark] .colab-df-convert:hover {\n",
              "      background-color: #434B5C;\n",
              "      box-shadow: 0px 1px 3px 1px rgba(0, 0, 0, 0.15);\n",
              "      filter: drop-shadow(0px 1px 2px rgba(0, 0, 0, 0.3));\n",
              "      fill: #FFFFFF;\n",
              "    }\n",
              "  </style>\n",
              "\n",
              "      <script>\n",
              "        const buttonEl =\n",
              "          document.querySelector('#df-aaa4bc55-aa73-4e59-a94d-90ad2dac300a button.colab-df-convert');\n",
              "        buttonEl.style.display =\n",
              "          google.colab.kernel.accessAllowed ? 'block' : 'none';\n",
              "\n",
              "        async function convertToInteractive(key) {\n",
              "          const element = document.querySelector('#df-aaa4bc55-aa73-4e59-a94d-90ad2dac300a');\n",
              "          const dataTable =\n",
              "            await google.colab.kernel.invokeFunction('convertToInteractive',\n",
              "                                                     [key], {});\n",
              "          if (!dataTable) return;\n",
              "\n",
              "          const docLinkHtml = 'Like what you see? Visit the ' +\n",
              "            '<a target=\"_blank\" href=https://colab.research.google.com/notebooks/data_table.ipynb>data table notebook</a>'\n",
              "            + ' to learn more about interactive tables.';\n",
              "          element.innerHTML = '';\n",
              "          dataTable['output_type'] = 'display_data';\n",
              "          await google.colab.output.renderOutput(dataTable, element);\n",
              "          const docLink = document.createElement('div');\n",
              "          docLink.innerHTML = docLinkHtml;\n",
              "          element.appendChild(docLink);\n",
              "        }\n",
              "      </script>\n",
              "    </div>\n",
              "  </div>\n",
              "  "
            ],
            "text/plain": [
              "  school_state teacher_prefix project_grade_category  \\\n",
              "0           ca            mrs          grades_prek_2   \n",
              "1           ut             ms             grades_3_5   \n",
              "2           ca            mrs          grades_prek_2   \n",
              "3           ga            mrs          grades_prek_2   \n",
              "4           wa            mrs             grades_3_5   \n",
              "\n",
              "   teacher_number_of_previously_posted_projects  project_is_approved  \\\n",
              "0                                            53                    1   \n",
              "1                                             4                    1   \n",
              "2                                            10                    1   \n",
              "3                                             2                    1   \n",
              "4                                             2                    1   \n",
              "\n",
              "    clean_categories                 clean_subcategories  \\\n",
              "0       math_science  appliedsciences health_lifescience   \n",
              "1       specialneeds                        specialneeds   \n",
              "2  literacy_language                            literacy   \n",
              "3    appliedlearning                    earlydevelopment   \n",
              "4  literacy_language                            literacy   \n",
              "\n",
              "                                               essay   price  \n",
              "0  i fortunate enough use fairy tale stem kits cl...  725.05  \n",
              "1  imagine 8 9 years old you third grade classroo...  213.03  \n",
              "2  having class 24 students comes diverse learner...  329.00  \n",
              "3  i recently read article giving students choice...  481.04  \n",
              "4  my students crave challenge eat obstacles brea...   17.74  "
            ]
          },
          "execution_count": 56,
          "metadata": {},
          "output_type": "execute_result"
        }
      ],
      "source": [
        "data.head(5)"
      ]
    },
    {
      "cell_type": "markdown",
      "metadata": {
        "id": "Cn6Xy2tSkpRN"
      },
      "source": [
        "### Creating Function for response coding"
      ]
    },
    {
      "cell_type": "code",
      "execution_count": null,
      "metadata": {
        "id": "FunEfWh8kpRh"
      },
      "outputs": [],
      "source": [
        "def responseCodingfit(f,y):\n",
        "    \n",
        "    '''\n",
        "    This function returns the response coded values for single feature f based on the class labels.\n",
        "    This is the fit function which fits the training data to find the response coded values, store them in a dictionary \n",
        "    and then return them. It also returns the unique class labels that we have.\n",
        "    f: It is the feature for which we want to do the response coding.\n",
        "    y : This is the class labels of the dataset.\n",
        "    note: f,y can be pandas series or list\n",
        "    output:\n",
        "    response,uy\n",
        "    '''\n",
        "    \n",
        "    # We are using pandas dataframe so that we can leverage the filtering techniques of pandas.\n",
        "    df = pd.DataFrame()                   # Creating a dataframe to store the categorical feature f and the class labels\n",
        "    df['f'], df['y'] = f, y\n",
        "    \n",
        "    uy = df['y'].unique().tolist()       # To store the unique class labels\n",
        "    uf = df['f'].unique().tolist()       # To store the unique categories of the variable f\n",
        "    \n",
        "    # Now we need to create a dictionary in which we will store the probability values for different \n",
        "    # combinations of categories and class labels\n",
        "    \n",
        "    \n",
        "    response = {(f,y):0 for f in uf for y in uy}\n",
        "    \n",
        "    # For each combination of class label and category we are counting the number of occurences of pairs of (f,y) \n",
        "    # divided by the total number of occurence of f\n",
        "    for f,y in response:\n",
        "        response[(f,y)] = len(df[(df['y']==y) & (df['f']==f)])/len(df[df['f']==f])\n",
        "    \n",
        "    # Fianlly we are returning the response encoded probability values based on the train data and \n",
        "    # also the unique class labels(i.e. (0,1) in our case)\n",
        "    return response,uy"
      ]
    },
    {
      "cell_type": "code",
      "execution_count": null,
      "metadata": {
        "id": "BQyX4zwEkpRi"
      },
      "outputs": [],
      "source": [
        "def responseCodingTransform(f,response,uy):\n",
        "    \n",
        "    '''\n",
        "    This function is to be used only after the 'responseCodingFit' function\n",
        "    This is only for changing the feature values to the prob.values and then return them as two seperate lists\n",
        "    Input:\n",
        "        f        : The feature with categories\n",
        "        response : The output from the 'responseCodingFit' function\n",
        "        uy       : The unique class labels avaiable\n",
        "    Output:\n",
        "    We are going to return the encoded features as a dataframe\n",
        "    '''\n",
        "    \n",
        "    final_df = pd.DataFrame() # Creating a dataframe to store the final values and return them\n",
        "    final_df['f'] = f\n",
        "    \n",
        "    # Here we are going to iterate over the unique class labels and the assign the values obtained after fitting the data\n",
        "    # to get the final response coded values. We are also going to take care of the laplace smoothing values.\n",
        "    for y in uy:\n",
        "        final_df[str('f_')+str(y)] = final_df['f'].apply(lambda x: response.get((x,y),-1) if response.get((x,y),-1)!=-1 else 1/2)\n",
        "    \n",
        "    # Dropping the original categorical feature and returning the response encoded columns.\n",
        "    final_df.drop(['f'], inplace=True, axis=1)\n",
        "    return final_df"
      ]
    },
    {
      "cell_type": "code",
      "execution_count": null,
      "metadata": {
        "id": "CEWp62q8kpRs"
      },
      "outputs": [],
      "source": [
        "X = data.copy()\n",
        "y = X['project_is_approved']\n",
        "X.drop(['project_is_approved'], inplace=True, axis=1)"
      ]
    },
    {
      "cell_type": "markdown",
      "metadata": {
        "id": "6lAMFKFcsc3j"
      },
      "source": [
        "<h2>1.2 Splitting data into Train and cross validation(or test): Stratified Sampling</h2>"
      ]
    },
    {
      "cell_type": "code",
      "execution_count": null,
      "metadata": {
        "id": "ODMijuuNsc3l"
      },
      "outputs": [],
      "source": [
        "# split the data into train and test set using y as the stratifying column.\n",
        "X_train, X_test, y_train, y_test = train_test_split(X,y, test_size=0.20, stratify=y)\n"
      ]
    },
    {
      "cell_type": "code",
      "execution_count": null,
      "metadata": {
        "colab": {
          "base_uri": "https://localhost:8080/"
        },
        "id": "elSHq4jjkpSS",
        "outputId": "40459f25-c9c8-478e-be08-d7d41ca1027a"
      },
      "outputs": [
        {
          "data": {
            "text/plain": [
              "((87398, 8), (21850, 8), (87398,), (21850,))"
            ]
          },
          "execution_count": 65,
          "metadata": {},
          "output_type": "execute_result"
        }
      ],
      "source": [
        "X_train.shape, X_test.shape, y_train.shape, y_test.shape"
      ]
    },
    {
      "cell_type": "code",
      "execution_count": null,
      "metadata": {
        "id": "3CLHPOLVrMmu"
      },
      "outputs": [],
      "source": [
        "# Splitting the train data further into train and cross-validation dataset\n",
        "X_train, X_cv, y_train, y_cv = train_test_split(X_train,y_train, test_size=0.40, stratify=y_train)"
      ]
    },
    {
      "cell_type": "code",
      "execution_count": null,
      "metadata": {
        "colab": {
          "base_uri": "https://localhost:8080/"
        },
        "id": "mVMOC3xYrud5",
        "outputId": "e8f9e276-c382-4600-c0c6-ca189863da9d"
      },
      "outputs": [
        {
          "data": {
            "text/plain": [
              "((52438, 8), (34960, 8), (21850, 8), (52438,), (34960,), (21850,))"
            ]
          },
          "execution_count": 71,
          "metadata": {},
          "output_type": "execute_result"
        }
      ],
      "source": [
        "# Printing shape of train, cross-validation and test dataset\n",
        "X_train.shape,X_cv.shape, X_test.shape, y_train.shape, y_cv.shape,y_test.shape\n"
      ]
    },
    {
      "cell_type": "markdown",
      "metadata": {
        "id": "vsALgl5Asc3u"
      },
      "source": [
        "<h2>1.3 Make Data Model Ready: encoding eassay, and project_title</h2>"
      ]
    },
    {
      "cell_type": "code",
      "execution_count": null,
      "metadata": {
        "colab": {
          "base_uri": "https://localhost:8080/",
          "height": 617
        },
        "id": "eluS_-hHR6Jx",
        "outputId": "010162ea-d23c-48e1-e8ef-2e7d14aef0fe"
      },
      "outputs": [
        {
          "data": {
            "text/html": [
              "\n",
              "  <div id=\"df-db2d491b-140b-4c76-98f0-3750963321c4\">\n",
              "    <div class=\"colab-df-container\">\n",
              "      <div>\n",
              "<style scoped>\n",
              "    .dataframe tbody tr th:only-of-type {\n",
              "        vertical-align: middle;\n",
              "    }\n",
              "\n",
              "    .dataframe tbody tr th {\n",
              "        vertical-align: top;\n",
              "    }\n",
              "\n",
              "    .dataframe thead th {\n",
              "        text-align: right;\n",
              "    }\n",
              "</style>\n",
              "<table border=\"1\" class=\"dataframe\">\n",
              "  <thead>\n",
              "    <tr style=\"text-align: right;\">\n",
              "      <th></th>\n",
              "      <th>school_state</th>\n",
              "      <th>teacher_prefix</th>\n",
              "      <th>project_grade_category</th>\n",
              "      <th>teacher_number_of_previously_posted_projects</th>\n",
              "      <th>clean_categories</th>\n",
              "      <th>clean_subcategories</th>\n",
              "      <th>essay</th>\n",
              "      <th>price</th>\n",
              "    </tr>\n",
              "  </thead>\n",
              "  <tbody>\n",
              "    <tr>\n",
              "      <th>85592</th>\n",
              "      <td>sc</td>\n",
              "      <td>mr</td>\n",
              "      <td>grades_6_8</td>\n",
              "      <td>2</td>\n",
              "      <td>health_sports</td>\n",
              "      <td>teamsports</td>\n",
              "      <td>the young ladies softball program come many di...</td>\n",
              "      <td>289.90</td>\n",
              "    </tr>\n",
              "    <tr>\n",
              "      <th>68144</th>\n",
              "      <td>oh</td>\n",
              "      <td>mrs</td>\n",
              "      <td>grades_9_12</td>\n",
              "      <td>0</td>\n",
              "      <td>appliedlearning math_science</td>\n",
              "      <td>college_careerprep mathematics</td>\n",
              "      <td>reaching teenage students challenging earning ...</td>\n",
              "      <td>406.11</td>\n",
              "    </tr>\n",
              "    <tr>\n",
              "      <th>48294</th>\n",
              "      <td>ms</td>\n",
              "      <td>mrs</td>\n",
              "      <td>grades_6_8</td>\n",
              "      <td>2</td>\n",
              "      <td>literacy_language</td>\n",
              "      <td>literature_writing</td>\n",
              "      <td>my students come diverse backgrounds economica...</td>\n",
              "      <td>483.99</td>\n",
              "    </tr>\n",
              "    <tr>\n",
              "      <th>53635</th>\n",
              "      <td>ca</td>\n",
              "      <td>mrs</td>\n",
              "      <td>grades_prek_2</td>\n",
              "      <td>0</td>\n",
              "      <td>health_sports math_science</td>\n",
              "      <td>health_wellness mathematics</td>\n",
              "      <td>my students love coming school ready learn eve...</td>\n",
              "      <td>121.47</td>\n",
              "    </tr>\n",
              "    <tr>\n",
              "      <th>62739</th>\n",
              "      <td>tn</td>\n",
              "      <td>mrs</td>\n",
              "      <td>grades_3_5</td>\n",
              "      <td>0</td>\n",
              "      <td>literacy_language</td>\n",
              "      <td>literacy literature_writing</td>\n",
              "      <td>my students excited reading they understand im...</td>\n",
              "      <td>281.01</td>\n",
              "    </tr>\n",
              "  </tbody>\n",
              "</table>\n",
              "</div>\n",
              "      <button class=\"colab-df-convert\" onclick=\"convertToInteractive('df-db2d491b-140b-4c76-98f0-3750963321c4')\"\n",
              "              title=\"Convert this dataframe to an interactive table.\"\n",
              "              style=\"display:none;\">\n",
              "        \n",
              "  <svg xmlns=\"http://www.w3.org/2000/svg\" height=\"24px\"viewBox=\"0 0 24 24\"\n",
              "       width=\"24px\">\n",
              "    <path d=\"M0 0h24v24H0V0z\" fill=\"none\"/>\n",
              "    <path d=\"M18.56 5.44l.94 2.06.94-2.06 2.06-.94-2.06-.94-.94-2.06-.94 2.06-2.06.94zm-11 1L8.5 8.5l.94-2.06 2.06-.94-2.06-.94L8.5 2.5l-.94 2.06-2.06.94zm10 10l.94 2.06.94-2.06 2.06-.94-2.06-.94-.94-2.06-.94 2.06-2.06.94z\"/><path d=\"M17.41 7.96l-1.37-1.37c-.4-.4-.92-.59-1.43-.59-.52 0-1.04.2-1.43.59L10.3 9.45l-7.72 7.72c-.78.78-.78 2.05 0 2.83L4 21.41c.39.39.9.59 1.41.59.51 0 1.02-.2 1.41-.59l7.78-7.78 2.81-2.81c.8-.78.8-2.07 0-2.86zM5.41 20L4 18.59l7.72-7.72 1.47 1.35L5.41 20z\"/>\n",
              "  </svg>\n",
              "      </button>\n",
              "      \n",
              "  <style>\n",
              "    .colab-df-container {\n",
              "      display:flex;\n",
              "      flex-wrap:wrap;\n",
              "      gap: 12px;\n",
              "    }\n",
              "\n",
              "    .colab-df-convert {\n",
              "      background-color: #E8F0FE;\n",
              "      border: none;\n",
              "      border-radius: 50%;\n",
              "      cursor: pointer;\n",
              "      display: none;\n",
              "      fill: #1967D2;\n",
              "      height: 32px;\n",
              "      padding: 0 0 0 0;\n",
              "      width: 32px;\n",
              "    }\n",
              "\n",
              "    .colab-df-convert:hover {\n",
              "      background-color: #E2EBFA;\n",
              "      box-shadow: 0px 1px 2px rgba(60, 64, 67, 0.3), 0px 1px 3px 1px rgba(60, 64, 67, 0.15);\n",
              "      fill: #174EA6;\n",
              "    }\n",
              "\n",
              "    [theme=dark] .colab-df-convert {\n",
              "      background-color: #3B4455;\n",
              "      fill: #D2E3FC;\n",
              "    }\n",
              "\n",
              "    [theme=dark] .colab-df-convert:hover {\n",
              "      background-color: #434B5C;\n",
              "      box-shadow: 0px 1px 3px 1px rgba(0, 0, 0, 0.15);\n",
              "      filter: drop-shadow(0px 1px 2px rgba(0, 0, 0, 0.3));\n",
              "      fill: #FFFFFF;\n",
              "    }\n",
              "  </style>\n",
              "\n",
              "      <script>\n",
              "        const buttonEl =\n",
              "          document.querySelector('#df-db2d491b-140b-4c76-98f0-3750963321c4 button.colab-df-convert');\n",
              "        buttonEl.style.display =\n",
              "          google.colab.kernel.accessAllowed ? 'block' : 'none';\n",
              "\n",
              "        async function convertToInteractive(key) {\n",
              "          const element = document.querySelector('#df-db2d491b-140b-4c76-98f0-3750963321c4');\n",
              "          const dataTable =\n",
              "            await google.colab.kernel.invokeFunction('convertToInteractive',\n",
              "                                                     [key], {});\n",
              "          if (!dataTable) return;\n",
              "\n",
              "          const docLinkHtml = 'Like what you see? Visit the ' +\n",
              "            '<a target=\"_blank\" href=https://colab.research.google.com/notebooks/data_table.ipynb>data table notebook</a>'\n",
              "            + ' to learn more about interactive tables.';\n",
              "          element.innerHTML = '';\n",
              "          dataTable['output_type'] = 'display_data';\n",
              "          await google.colab.output.renderOutput(dataTable, element);\n",
              "          const docLink = document.createElement('div');\n",
              "          docLink.innerHTML = docLinkHtml;\n",
              "          element.appendChild(docLink);\n",
              "        }\n",
              "      </script>\n",
              "    </div>\n",
              "  </div>\n",
              "  "
            ],
            "text/plain": [
              "      school_state teacher_prefix project_grade_category  \\\n",
              "85592           sc             mr             grades_6_8   \n",
              "68144           oh            mrs            grades_9_12   \n",
              "48294           ms            mrs             grades_6_8   \n",
              "53635           ca            mrs          grades_prek_2   \n",
              "62739           tn            mrs             grades_3_5   \n",
              "\n",
              "       teacher_number_of_previously_posted_projects  \\\n",
              "85592                                             2   \n",
              "68144                                             0   \n",
              "48294                                             2   \n",
              "53635                                             0   \n",
              "62739                                             0   \n",
              "\n",
              "                   clean_categories             clean_subcategories  \\\n",
              "85592                 health_sports                      teamsports   \n",
              "68144  appliedlearning math_science  college_careerprep mathematics   \n",
              "48294             literacy_language              literature_writing   \n",
              "53635    health_sports math_science     health_wellness mathematics   \n",
              "62739             literacy_language     literacy literature_writing   \n",
              "\n",
              "                                                   essay   price  \n",
              "85592  the young ladies softball program come many di...  289.90  \n",
              "68144  reaching teenage students challenging earning ...  406.11  \n",
              "48294  my students come diverse backgrounds economica...  483.99  \n",
              "53635  my students love coming school ready learn eve...  121.47  \n",
              "62739  my students excited reading they understand im...  281.01  "
            ]
          },
          "execution_count": 11,
          "metadata": {},
          "output_type": "execute_result"
        }
      ],
      "source": [
        "X_train.head()"
      ]
    },
    {
      "cell_type": "markdown",
      "metadata": {
        "id": "ae0v7eLrkpSW"
      },
      "source": [
        "<h3>1.3.1 Set1 - TFIDF Encoding for essay </h3>"
      ]
    },
    {
      "cell_type": "code",
      "execution_count": null,
      "metadata": {
        "id": "ArJfsn7UkpSX"
      },
      "outputs": [],
      "source": [
        "from sklearn.feature_extraction.text import TfidfVectorizer"
      ]
    },
    {
      "cell_type": "code",
      "execution_count": null,
      "metadata": {
        "id": "y3l4vr0gkpSZ"
      },
      "outputs": [],
      "source": [
        "# initializing the TFIDF vectorizer\n",
        "tfidf = TfidfVectorizer()\n",
        "\n",
        "# Now fitting the train data essay values and transforming to get tfidf values\n",
        "X_train_essay_tfidf = tfidf.fit_transform(X_train['essay'].values)\n",
        "\n",
        "# transform the test data to get the tfidf values for the test data \n",
        "X_test_essay_tfidf = tfidf.transform(X_test['essay'].values)"
      ]
    },
    {
      "cell_type": "code",
      "execution_count": null,
      "metadata": {
        "id": "7fd6GbZZzwMf"
      },
      "outputs": [],
      "source": [
        "# transform the cv data to get the tfidf values for the cv data \n",
        "X_cv_essay_tfidf = tfidf.transform(X_cv['essay'].values)"
      ]
    },
    {
      "cell_type": "code",
      "execution_count": null,
      "metadata": {
        "colab": {
          "base_uri": "https://localhost:8080/"
        },
        "id": "k_b71H9BkpSa",
        "outputId": "b9c292d5-7b7b-46e3-a31b-0f16f3fc56a0"
      },
      "outputs": [
        {
          "name": "stdout",
          "output_type": "stream",
          "text": [
            "(52438, 42503) (52438,)\n",
            "(34960, 42503) (34960,)\n",
            "(21850, 42503) (21850,)\n"
          ]
        }
      ],
      "source": [
        "# Shape after vectorization\n",
        "print(X_train_essay_tfidf.shape, y_train.shape)\n",
        "print(X_cv_essay_tfidf.shape, y_cv.shape)\n",
        "print(X_test_essay_tfidf.shape, y_test.shape)"
      ]
    },
    {
      "cell_type": "markdown",
      "metadata": {
        "id": "G2L6Qcg4kpSa"
      },
      "source": [
        "<h3>1.3.1 Set2 - TFIDF_W2V Encoding for essay </h3>"
      ]
    },
    {
      "cell_type": "code",
      "execution_count": null,
      "metadata": {
        "id": "4QJA066IkpSb"
      },
      "outputs": [],
      "source": [
        "import pickle"
      ]
    },
    {
      "cell_type": "code",
      "execution_count": null,
      "metadata": {
        "id": "bSRCDhjnkpSc"
      },
      "outputs": [],
      "source": [
        "# here we are going to implement the tfidf weighted W2V for the essay features.\n",
        "\n",
        "# We can use the tfidf values obtained from the above tfidf vectorization. \n",
        "# We just have to incorporate the W2V vectorization part\n",
        "\n",
        "with open('/content/drive/MyDrive/11_GBDT_on_DonorChoose_Dataset/11_Donors_choose_GBDT/glove_vectors', 'rb') as f:\n",
        "    model = pickle.load(f)\n",
        "    glove_words = set(model.keys())"
      ]
    },
    {
      "cell_type": "code",
      "execution_count": null,
      "metadata": {
        "id": "3YsZ3s4FkpSd"
      },
      "outputs": [],
      "source": [
        "# using the tfidf vectorizers values to create a dictionary of words as keys and their corresponding idf values as values\n",
        "dictionary = dict(zip(tfidf.get_feature_names_out(), list(tfidf.idf_)))\n",
        "tfidf_words = set(tfidf.get_feature_names_out())"
      ]
    },
    {
      "cell_type": "markdown",
      "metadata": {
        "id": "o6QU_0srkpSe"
      },
      "source": [
        "#### For train data"
      ]
    },
    {
      "cell_type": "code",
      "execution_count": null,
      "metadata": {
        "colab": {
          "base_uri": "https://localhost:8080/"
        },
        "id": "p-2VVTzAkpSe",
        "outputId": "dfa82d3b-de9e-4ec1-a12b-3040f9810e2b"
      },
      "outputs": [
        {
          "name": "stderr",
          "output_type": "stream",
          "text": [
            "100%|██████████| 52438/52438 [00:52<00:00, 1001.44it/s]\n"
          ]
        }
      ],
      "source": [
        "# Implementing tfidf weighted w2v\n",
        "tfidf_w2v_vectors = []         # Creating an empty list to store the vectors\n",
        "for sentence in tqdm(X_train['essay'].values):\n",
        "    vector = np.zeros(300)              # Creating an empty array to store the tfidf_w2v vectors\n",
        "    tfidf_weight = 0                    # counter variable to sum up all the tfidf values in a particular sentence\n",
        "    words_sentence = sentence.split()\n",
        "    len_words_sentence = len(words_sentence)\n",
        "    for word in words_sentence:\n",
        "        if (word in glove_words) and (word in tfidf_words):\n",
        "            # calculating the tfidf weights i.e tf*idf\n",
        "            tf_idf = dictionary[word]*(sentence.count(word)/len_words_sentence)\n",
        "            # now creating the tfidf weighted w2v vectors i.e. w2v_vector * tfidf value \n",
        "            # and we have to sum up all the vectors corresponding to each word in the sentence\n",
        "            vector += model[word]*tf_idf\n",
        "            tfidf_weight += tf_idf          # Summing up all the tfidf values\n",
        "    \n",
        "    if tfidf_weight!=0:\n",
        "        # Dividing by the sum of all the tfidf values\n",
        "        vector /= tfidf_weight\n",
        "    \n",
        "    # Storing the final tfifd_w2v vectors\n",
        "    tfidf_w2v_vectors.append(vector)\n"
      ]
    },
    {
      "cell_type": "code",
      "execution_count": null,
      "metadata": {
        "colab": {
          "base_uri": "https://localhost:8080/"
        },
        "id": "cO8FLaHtkpSg",
        "outputId": "8ee6a593-11ec-42c5-8ad1-0b02896c0abc"
      },
      "outputs": [
        {
          "data": {
            "text/plain": [
              "(52438, 300)"
            ]
          },
          "execution_count": 80,
          "metadata": {},
          "output_type": "execute_result"
        }
      ],
      "source": [
        "X_train_tfidf_w2v_vectors = np.reshape(tfidf_w2v_vectors, (len(tfidf_w2v_vectors), 300))\n",
        "X_train_tfidf_w2v_vectors.shape"
      ]
    },
    {
      "cell_type": "markdown",
      "metadata": {
        "id": "oyx3TP_MwKDo"
      },
      "source": [
        "## For Cross-validation data"
      ]
    },
    {
      "cell_type": "code",
      "execution_count": null,
      "metadata": {
        "colab": {
          "base_uri": "https://localhost:8080/"
        },
        "id": "xSe_aGKPtsFE",
        "outputId": "9863a811-6de7-46e2-9c73-b5c8af02a62b"
      },
      "outputs": [
        {
          "name": "stderr",
          "output_type": "stream",
          "text": [
            "100%|██████████| 34960/34960 [00:32<00:00, 1069.87it/s]\n"
          ]
        },
        {
          "name": "stdout",
          "output_type": "stream",
          "text": [
            "(34960, 300)\n"
          ]
        }
      ],
      "source": [
        "# Now calculating tfidf_weighted w2v for test data\n",
        "X_cv_tfidf_w2v_vectors = []         # Creating an empty list to store the test data tfidf-w2v vectors\n",
        "for sentence in tqdm(X_cv['essay'].values):\n",
        "    vector = np.zeros(300)              # Creating an empty array to store the tfidf_w2v vectors\n",
        "    tfidf_weight = 0                    # counter variable to sum up all the tfidf values in a particular sentence\n",
        "    words_sentence = sentence.split()\n",
        "    len_words_sentence = len(words_sentence)\n",
        "    for word in words_sentence:\n",
        "        if (word in glove_words) and (word in tfidf_words):\n",
        "            # calculating the tfidf weights i.e tf*idf\n",
        "            tf_idf = dictionary[word]*(sentence.count(word)/len_words_sentence)\n",
        "            # now creating the tfidf weighted w2v vectors i.e. w2v_vector * tfidf value \n",
        "            # and we have to sum up all the vectors corresponding to each word in the sentence\n",
        "            vector += model[word]*tf_idf\n",
        "            tfidf_weight += tf_idf          # Summing up all the tfidf values\n",
        "    \n",
        "    if tfidf_weight!=0:\n",
        "        # Dividing by the sum of all the tfidf values\n",
        "        vector /= tfidf_weight\n",
        "    \n",
        "    # Storing the final tfifd_w2v vectors\n",
        "    X_cv_tfidf_w2v_vectors.append(vector)\n",
        "\n",
        "\n",
        "X_cv_tfidf_w2v_vectors = np.reshape(X_cv_tfidf_w2v_vectors, (len(X_cv_tfidf_w2v_vectors), 300))\n",
        "print(X_cv_tfidf_w2v_vectors.shape)"
      ]
    },
    {
      "cell_type": "markdown",
      "metadata": {
        "id": "SMHFnv7KkpSh"
      },
      "source": [
        "#### For test data"
      ]
    },
    {
      "cell_type": "code",
      "execution_count": null,
      "metadata": {
        "colab": {
          "base_uri": "https://localhost:8080/"
        },
        "id": "HWkOqeumkpSh",
        "outputId": "28508abf-e66d-41dc-e378-ec1533a63a88"
      },
      "outputs": [
        {
          "name": "stderr",
          "output_type": "stream",
          "text": [
            "100%|██████████| 21850/21850 [00:21<00:00, 1035.61it/s]"
          ]
        },
        {
          "name": "stdout",
          "output_type": "stream",
          "text": [
            "52438\n",
            "300\n",
            "(21850, 300)\n"
          ]
        },
        {
          "name": "stderr",
          "output_type": "stream",
          "text": [
            "\n"
          ]
        }
      ],
      "source": [
        "# Now calculating tfidf_weighted w2v for test data\n",
        "X_test_tfidf_w2v_vectors = []         # Creating an empty list to store the test data tfidf-w2v vectors\n",
        "for sentence in tqdm(X_test['essay'].values):\n",
        "    vector = np.zeros(300)              # Creating an empty array to store the tfidf_w2v vectors\n",
        "    tfidf_weight = 0                    # counter variable to sum up all the tfidf values in a particular sentence\n",
        "    words_sentence = sentence.split()\n",
        "    len_words_sentence = len(words_sentence)\n",
        "    for word in words_sentence:\n",
        "        if (word in glove_words) and (word in tfidf_words):\n",
        "            # calculating the tfidf weights i.e tf*idf\n",
        "            tf_idf = dictionary[word]*(sentence.count(word)/len_words_sentence)\n",
        "            # now creating the tfidf weighted w2v vectors i.e. w2v_vector * tfidf value \n",
        "            # and we have to sum up all the vectors corresponding to each word in the sentence\n",
        "            vector += model[word]*tf_idf\n",
        "            tfidf_weight += tf_idf          # Summing up all the tfidf values\n",
        "    \n",
        "    if tfidf_weight!=0:\n",
        "        # Dividing by the sum of all the tfidf values\n",
        "        vector /= tfidf_weight\n",
        "    \n",
        "    # Storing the final tfifd_w2v vectors\n",
        "    X_test_tfidf_w2v_vectors.append(vector)\n",
        "\n",
        "\n",
        "print(len(tfidf_w2v_vectors))\n",
        "print(len(tfidf_w2v_vectors[0]))\n",
        "\n",
        "\n",
        "X_test_tfidf_w2v_vectors = np.reshape(X_test_tfidf_w2v_vectors, (len(X_test_tfidf_w2v_vectors), 300))\n",
        "print(X_test_tfidf_w2v_vectors.shape)"
      ]
    },
    {
      "cell_type": "markdown",
      "metadata": {
        "id": "S3Vxxv2Hsc31"
      },
      "source": [
        "<h2>1.4 Make Data Model Ready: encoding numerical, categorical features</h2>"
      ]
    },
    {
      "cell_type": "markdown",
      "metadata": {
        "id": "aL1FIIwQkpSl"
      },
      "source": [
        "<h3>1.4.1 Encoding categorical feature : school_state</h3>"
      ]
    },
    {
      "cell_type": "code",
      "execution_count": null,
      "metadata": {
        "colab": {
          "base_uri": "https://localhost:8080/"
        },
        "id": "VkJs1DNCkpSm",
        "outputId": "5afd86c8-1a40-46c1-aa8d-d0b0d430182e"
      },
      "outputs": [
        {
          "name": "stdout",
          "output_type": "stream",
          "text": [
            "(52438, 2) (52438,)\n",
            "(34960, 2) (34960,)\n",
            "(21850, 2) (21850,)\n",
            "====================================================================================================\n"
          ]
        }
      ],
      "source": [
        "# First fitting the categorical feature train data \n",
        "responses,class_labels = responseCodingfit(X_train['school_state'].values, y_train.values)\n",
        "\n",
        "X_train_school_state = responseCodingTransform(X_train['school_state'].values,responses,class_labels).values\n",
        "X_cv_school_state = responseCodingTransform(X_cv['school_state'].values,responses,class_labels).values\n",
        "X_test_school_state = responseCodingTransform(X_test['school_state'].values,responses,class_labels).values\n",
        "\n",
        "print(X_train_school_state.shape, y_train.shape)\n",
        "print(X_cv_school_state.shape, y_cv.shape)\n",
        "print(X_test_school_state.shape, y_test.shape)\n",
        "print('='*100)"
      ]
    },
    {
      "cell_type": "markdown",
      "metadata": {
        "id": "IryX_Y6qkpSo"
      },
      "source": [
        "<h3>1.4.2 Encoding categorical feature : teacher_predfix</h3>"
      ]
    },
    {
      "cell_type": "code",
      "execution_count": null,
      "metadata": {
        "colab": {
          "base_uri": "https://localhost:8080/"
        },
        "id": "1JQm6KbCkpSq",
        "outputId": "12261ebc-e5c6-47dc-afe6-71072608c574"
      },
      "outputs": [
        {
          "name": "stdout",
          "output_type": "stream",
          "text": [
            "(52438, 2) (52438,)\n",
            "(34960, 2) (34960,)\n",
            "(21850, 2) (21850,)\n",
            "====================================================================================================\n"
          ]
        }
      ],
      "source": [
        "# First fitting the categorical feature train data \n",
        "responses,class_labels = responseCodingfit(X_train['teacher_prefix'].values, y_train.values)\n",
        "\n",
        "X_train_teacher_prefix = responseCodingTransform(X_train['teacher_prefix'].values,responses,class_labels).values\n",
        "X_cv_teacher_prefix = responseCodingTransform(X_cv['teacher_prefix'].values,responses,class_labels).values\n",
        "X_test_teacher_prefix = responseCodingTransform(X_test['teacher_prefix'].values,responses,class_labels).values\n",
        "\n",
        "print(X_train_teacher_prefix.shape, y_train.shape)\n",
        "print(X_cv_teacher_prefix.shape, y_cv.shape)\n",
        "print(X_test_teacher_prefix.shape, y_test.shape)\n",
        "print('='*100)"
      ]
    },
    {
      "cell_type": "markdown",
      "metadata": {
        "id": "shKvjciskpSr"
      },
      "source": [
        "<h3>1.4.3 Encoding categorical feature : project_grade_category</h3>"
      ]
    },
    {
      "cell_type": "code",
      "execution_count": null,
      "metadata": {
        "colab": {
          "base_uri": "https://localhost:8080/"
        },
        "id": "qEwR78S2kpSr",
        "outputId": "fb1ba141-4d6a-43e7-9166-5e24532d9688"
      },
      "outputs": [
        {
          "name": "stdout",
          "output_type": "stream",
          "text": [
            "(52438, 2) (52438,)\n",
            "(34960, 2) (34960,)\n",
            "(21850, 2) (21850,)\n",
            "====================================================================================================\n"
          ]
        }
      ],
      "source": [
        "# First fitting the categorical feature train data \n",
        "responses,class_labels = responseCodingfit(X_train['project_grade_category'].values, y_train.values)\n",
        "\n",
        "X_train_project_grade_category = responseCodingTransform(X_train['project_grade_category'].values,responses,class_labels).values\n",
        "X_cv_project_grade_category = responseCodingTransform(X_cv['project_grade_category'].values,responses,class_labels).values\n",
        "X_test_project_grade_category = responseCodingTransform(X_test['project_grade_category'].values,responses,class_labels).values\n",
        "\n",
        "print(X_train_project_grade_category.shape, y_train.shape)\n",
        "print(X_cv_project_grade_category.shape, y_cv.shape)\n",
        "print(X_test_project_grade_category.shape, y_test.shape)\n",
        "print('='*100)"
      ]
    },
    {
      "cell_type": "markdown",
      "metadata": {
        "id": "1hL0ZTeKkpSs"
      },
      "source": [
        "<h3>1.4.4 Encoding categorical feature : clean_categories</h3>"
      ]
    },
    {
      "cell_type": "code",
      "execution_count": null,
      "metadata": {
        "colab": {
          "base_uri": "https://localhost:8080/"
        },
        "id": "gi4d-QIZkpSt",
        "outputId": "60305f11-d514-4e56-c210-9064736c1107"
      },
      "outputs": [
        {
          "name": "stdout",
          "output_type": "stream",
          "text": [
            "(52438, 2) (52438,)\n",
            "(34960, 2) (34960,)\n",
            "(21850, 2) (21850,)\n",
            "====================================================================================================\n"
          ]
        }
      ],
      "source": [
        "# First fitting the categorical feature train data \n",
        "responses,class_labels = responseCodingfit(X_train['clean_categories'].values, y_train.values)\n",
        "\n",
        "X_train_clean_categories = responseCodingTransform(X_train['clean_categories'].values,responses,class_labels).values\n",
        "X_cv_clean_categories = responseCodingTransform(X_cv['clean_categories'].values,responses,class_labels).values\n",
        "X_test_clean_categories = responseCodingTransform(X_test['clean_categories'].values,responses,class_labels).values\n",
        "\n",
        "print(X_train_clean_categories.shape, y_train.shape)\n",
        "print(X_cv_clean_categories.shape, y_cv.shape)\n",
        "print(X_test_clean_categories.shape, y_test.shape)\n",
        "print('='*100)"
      ]
    },
    {
      "cell_type": "markdown",
      "metadata": {
        "id": "y65Gmn9xkpSu"
      },
      "source": [
        "<h3>1.4.5 Encoding categorical feature : clean_subcategories</h3> "
      ]
    },
    {
      "cell_type": "code",
      "execution_count": null,
      "metadata": {
        "colab": {
          "base_uri": "https://localhost:8080/"
        },
        "id": "3xYYMwXQkpSu",
        "outputId": "50208cbb-175f-477c-82cd-2e20294717e1"
      },
      "outputs": [
        {
          "name": "stdout",
          "output_type": "stream",
          "text": [
            "(52438, 2) (52438,)\n",
            "(34960, 2) (34960,)\n",
            "(21850, 2) (21850,)\n",
            "====================================================================================================\n"
          ]
        }
      ],
      "source": [
        "# First fitting the categorical feature train data \n",
        "responses,class_labels = responseCodingfit(X_train['clean_subcategories'].values, y_train.values)\n",
        "\n",
        "X_train_clean_subcategories = responseCodingTransform(X_train['clean_subcategories'].values,responses,class_labels).values\n",
        "X_cv_clean_subcategories = responseCodingTransform(X_cv['clean_subcategories'].values,responses,class_labels).values\n",
        "X_test_clean_subcategories = responseCodingTransform(X_test['clean_subcategories'].values,responses,class_labels).values\n",
        "\n",
        "print(X_train_clean_subcategories.shape, y_train.shape)\n",
        "print(X_cv_clean_subcategories.shape, y_cv.shape)\n",
        "print(X_test_clean_subcategories.shape, y_test.shape)\n",
        "print('='*100)"
      ]
    },
    {
      "cell_type": "markdown",
      "metadata": {
        "id": "Gw8c4lP0kpSv"
      },
      "source": [
        "<h3>1.4.5 Encoding numerical feature : price</h3> "
      ]
    },
    {
      "cell_type": "code",
      "execution_count": null,
      "metadata": {
        "colab": {
          "base_uri": "https://localhost:8080/"
        },
        "id": "yZGUF4snkpSw",
        "outputId": "282772e7-82d3-42e9-d8ba-6365386a1830"
      },
      "outputs": [
        {
          "name": "stdout",
          "output_type": "stream",
          "text": [
            "(52438, 1) (52438,)\n",
            "(34960, 1) (34960,)\n",
            "(21850, 1) (21850,)\n",
            "====================================================================================================\n"
          ]
        }
      ],
      "source": [
        "X_train_price = X_train['price'].values.reshape(-1,1)\n",
        "X_cv_price = X_cv['price'].values.reshape(-1,1)\n",
        "X_test_price = X_test['price'].values.reshape(-1,1)\n",
        "\n",
        "print(X_train_price.shape, y_train.shape)\n",
        "print(X_cv_price.shape, y_cv.shape)\n",
        "print(X_test_price.shape, y_test.shape)\n",
        "print('='*100)"
      ]
    },
    {
      "cell_type": "markdown",
      "metadata": {
        "id": "57CQKS84kpSx"
      },
      "source": [
        "<h3>1.4.5 Encoding numerical feature : teacher_number_of_previously_posted_projects</h3> "
      ]
    },
    {
      "cell_type": "code",
      "execution_count": null,
      "metadata": {
        "colab": {
          "base_uri": "https://localhost:8080/"
        },
        "id": "SJ7eNiC2kpSx",
        "outputId": "ad57f80a-672d-44cc-b93a-4c73df9ebb92"
      },
      "outputs": [
        {
          "name": "stdout",
          "output_type": "stream",
          "text": [
            "(52438, 1) (52438,)\n",
            "(34960, 1) (34960,)\n",
            "(21850, 1) (21850,)\n",
            "====================================================================================================\n"
          ]
        }
      ],
      "source": [
        "X_train_tnoppp = X_train['teacher_number_of_previously_posted_projects'].values.reshape(-1,1)\n",
        "X_cv_tnoppp = X_cv['teacher_number_of_previously_posted_projects'].values.reshape(-1,1)\n",
        "X_test_tnoppp = X_test['teacher_number_of_previously_posted_projects'].values.reshape(-1,1)\n",
        "\n",
        "print(X_train_tnoppp.shape, y_train.shape)\n",
        "print(X_cv_tnoppp.shape, y_cv.shape)\n",
        "print(X_test_tnoppp.shape, y_test.shape)\n",
        "print('='*100)"
      ]
    },
    {
      "cell_type": "markdown",
      "metadata": {
        "id": "rRou4uo6kpS2"
      },
      "source": [
        "### 1.4.6 Sentiment Score for Train Data"
      ]
    },
    {
      "cell_type": "code",
      "execution_count": null,
      "metadata": {
        "colab": {
          "base_uri": "https://localhost:8080/"
        },
        "id": "7Bkbc0eMkpS3",
        "outputId": "51bacb83-fdb0-42ef-a689-d544f6f34deb"
      },
      "outputs": [
        {
          "name": "stderr",
          "output_type": "stream",
          "text": [
            "100%|██████████| 52438/52438 [01:42<00:00, 512.49it/s]\n"
          ]
        }
      ],
      "source": [
        "neg_train, neu_train, pos_train, comp_train = [], [], [], []\n",
        "\n",
        "# Initializing the sentiment Analyzer to get the sentiment scores\n",
        "sid = SentimentIntensityAnalyzer()\n",
        "for sentence in tqdm(X_train['essay'].values):\n",
        "    # Calculating sentiment scores for each essay and\n",
        "    sentiment_score = sid.polarity_scores(sentence)\n",
        "    \n",
        "    # storing all the values separately\n",
        "    neg_train.append(sentiment_score['neg'])\n",
        "    pos_train.append(sentiment_score['pos'])\n",
        "    neu_train.append(sentiment_score['neu'])\n",
        "    comp_train.append(sentiment_score['compound'])"
      ]
    },
    {
      "cell_type": "code",
      "execution_count": null,
      "metadata": {
        "id": "xtvXJS3ykpS4"
      },
      "outputs": [],
      "source": [
        "# Changing the shape of vectors\n",
        "neg_train = np.array(neg_train).reshape((-1,1))\n",
        "pos_train = np.array(pos_train).reshape((-1,1))\n",
        "comp_train = np.array(comp_train).reshape((-1,1))\n",
        "neu_train = np.array(neu_train).reshape((-1,1))"
      ]
    },
    {
      "cell_type": "markdown",
      "metadata": {
        "id": "pLZGDnk1xvEH"
      },
      "source": [
        "#### Sentiment Scores for CV Data"
      ]
    },
    {
      "cell_type": "code",
      "execution_count": null,
      "metadata": {
        "colab": {
          "base_uri": "https://localhost:8080/"
        },
        "id": "rpNSa2Fkxt1G",
        "outputId": "b791f2a9-4d91-4bd0-cd99-0899e7ea2cd2"
      },
      "outputs": [
        {
          "name": "stderr",
          "output_type": "stream",
          "text": [
            "100%|██████████| 34960/34960 [01:11<00:00, 489.93it/s]\n"
          ]
        }
      ],
      "source": [
        "neg_cv, neu_cv, pos_cv, comp_cv = [], [], [], []\n",
        "\n",
        "# Initializing the sentiment Analyzer to get the sentiment scores\n",
        "sid = SentimentIntensityAnalyzer()\n",
        "for sentence in tqdm(X_cv['essay'].values):\n",
        "    # Calculating sentiment scores for each essay and\n",
        "    sentiment_score = sid.polarity_scores(sentence)\n",
        "    \n",
        "    # storing all the values separately\n",
        "    neg_cv.append(sentiment_score['neg'])\n",
        "    pos_cv.append(sentiment_score['pos'])\n",
        "    neu_cv.append(sentiment_score['neu'])\n",
        "    comp_cv.append(sentiment_score['compound'])\n",
        "\n",
        "# Changing the shape of vectors\n",
        "neg_cv = np.array(neg_cv).reshape((-1,1))\n",
        "pos_cv = np.array(pos_cv).reshape((-1,1))\n",
        "comp_cv = np.array(comp_cv).reshape((-1,1))\n",
        "neu_cv = np.array(neu_cv).reshape((-1,1))\n"
      ]
    },
    {
      "cell_type": "code",
      "execution_count": null,
      "metadata": {
        "colab": {
          "base_uri": "https://localhost:8080/"
        },
        "id": "97bUYeRekpS5",
        "outputId": "863e0f4d-3291-4cf2-d78d-0aaa1ef4ab8c"
      },
      "outputs": [
        {
          "name": "stderr",
          "output_type": "stream",
          "text": [
            "100%|██████████| 21850/21850 [00:42<00:00, 514.21it/s]\n"
          ]
        }
      ],
      "source": [
        "neg_test, neu_test, pos_test, comp_test = [], [], [], []\n",
        "\n",
        "# Initializing the sentiment Analyzer to get the sentiment scores\n",
        "sid = SentimentIntensityAnalyzer()\n",
        "for sentence in tqdm(X_test['essay'].values):\n",
        "    # Calculating sentiment scores for each essay and\n",
        "    sentiment_score = sid.polarity_scores(sentence)\n",
        "    \n",
        "    # storing all the values separately\n",
        "    neg_test.append(sentiment_score['neg'])\n",
        "    pos_test.append(sentiment_score['pos'])\n",
        "    neu_test.append(sentiment_score['neu'])\n",
        "    comp_test.append(sentiment_score['compound'])\n",
        "\n",
        "# Changing the shape of vectors\n",
        "neg_test = np.array(neg_test).reshape((-1,1))\n",
        "pos_test = np.array(pos_test).reshape((-1,1))\n",
        "comp_test = np.array(comp_test).reshape((-1,1))\n",
        "neu_test = np.array(neu_test).reshape((-1,1))"
      ]
    },
    {
      "cell_type": "code",
      "execution_count": null,
      "metadata": {
        "id": "Ah5jMWsUkpS6"
      },
      "outputs": [],
      "source": [
        "# Changing the shape of vectors\n",
        "neg_test = np.array(neg_test).reshape((-1,1))\n",
        "pos_test = np.array(pos_test).reshape((-1,1))\n",
        "comp_test = np.array(comp_test).reshape((-1,1))\n",
        "neu_test = np.array(neu_test).reshape((-1,1))"
      ]
    },
    {
      "cell_type": "markdown",
      "metadata": {
        "id": "I5wDFj17sc3-"
      },
      "source": [
        "<h2>1.5 Appling Models on different kind of featurization</h2>"
      ]
    },
    {
      "cell_type": "markdown",
      "metadata": {
        "id": "zuxtI2pPkpS8"
      },
      "source": [
        "### 1.5.1 GBDT on SET-1 features"
      ]
    },
    {
      "cell_type": "code",
      "execution_count": null,
      "metadata": {
        "id": "9T69_HE1kpTU"
      },
      "outputs": [],
      "source": [
        "# Stacking all the train and test data together\n",
        "X_tr_set1 = hstack((X_train_essay_tfidf, X_train_school_state, X_train_teacher_prefix, X_train_project_grade_category, \n",
        "               X_train_clean_categories, X_train_clean_subcategories, X_train_price, X_train_tnoppp,\n",
        "              neg_train, pos_train, comp_train, neu_train)).tocsr()\n",
        "\n",
        "X_cv_set1 = hstack((X_cv_essay_tfidf, X_cv_school_state, X_cv_teacher_prefix, X_cv_project_grade_category, \n",
        "               X_cv_clean_categories, X_cv_clean_subcategories, X_cv_price, X_cv_tnoppp,\n",
        "              neg_cv, pos_cv, comp_cv, neu_cv)).tocsr()\n",
        "\n",
        "X_te_set1 = hstack((X_test_essay_tfidf, X_test_school_state, X_test_teacher_prefix, X_test_project_grade_category, \n",
        "               X_test_clean_categories, X_test_clean_subcategories, X_test_price, X_test_tnoppp,\n",
        "              neg_test, pos_test, comp_test, neu_test)).tocsr()"
      ]
    },
    {
      "cell_type": "code",
      "execution_count": null,
      "metadata": {
        "id": "S7iFG2bO71YG"
      },
      "outputs": [],
      "source": [
        "def batch_predict(clf, data):\n",
        "    # roc_auc_score(y_true, y_score) the 2nd parameter should be probability estimates of the positive class\n",
        "    # not the predicted outputs\n",
        "\n",
        "    y_data_pred = []\n",
        "    tr_loop = data.shape[0] - data.shape[0]%1000\n",
        "    # consider you X_tr shape is 49041, then your tr_loop will be 49041 - 49041%1000 = 49000\n",
        "    # in this for loop we will iterate unti the last 1000 multiplier\n",
        "    for i in range(0, tr_loop, 1000):\n",
        "        y_data_pred.extend(clf.predict_proba(data[i:i+1000])[:,1])\n",
        "    # we will be predicting for the last data points\n",
        "    if data.shape[0]%1000 !=0:\n",
        "        y_data_pred.extend(clf.predict_proba(data[tr_loop:])[:,1])\n",
        "    \n",
        "    return y_data_pred"
      ]
    },
    {
      "cell_type": "code",
      "execution_count": null,
      "metadata": {
        "id": "0-93c-2q0HQa"
      },
      "outputs": [],
      "source": [
        "# These are the values of hyper-parameters we want to test for our models\n",
        "n_estimators = [50,100, 150, 200,250,300]\n",
        "learning_rates = [0.1, 0.2, 0.5,1]\n",
        "\n",
        "# initializing a dataframe to store the model results\n",
        "results_set1 = pd.DataFrame(columns=['param_n_estimators','param_learning_rate','mean_train_score','mean_test_score'])\n",
        "\n",
        "# train_scores, cv_scores = [], []         # To store the train and cv auc scores to compare the performance of the model on different hyperparameters\n",
        "c = 1\n",
        "for n_est in n_estimators:     # Iterate over the n_estimator parameter  \n",
        "    \n",
        "    for lr in learning_rates:    # Iterate over the learning rate parameter\n",
        "\n",
        "        # Initializing our model with the parameters\n",
        "        gbdt = XGBClassifier(n_estimators=n_est,learning_rate=lr,booster='gbtree', n_jobs=-1)\n",
        "\n",
        "        gbdt.fit(X_tr_set1, y_train)       # Fitting our train data to the model\n",
        "\n",
        "        # Predict the probability output for the train data points and store the auc_score\n",
        "        y_train_pred_set1 = gbdt.predict_proba(X_tr_set1)[:,1]\n",
        "        y_train_score_set1 = roc_auc_score(y_train, y_train_pred_set1)\n",
        "\n",
        "        y_cv_pred_set1 = gbdt.predict_proba(X_cv_set1)[:,1]\n",
        "        y_cv_score_set1 = roc_auc_score(y_cv, y_cv_pred_set1)\n",
        "\n",
        "        # Store the all the model details in the dataframe\n",
        "        results_set1.loc[len(results_set1.index)] = [n_est, lr, y_train_score_set1, y_cv_score_set1]\n"
      ]
    },
    {
      "cell_type": "code",
      "execution_count": null,
      "metadata": {
        "colab": {
          "base_uri": "https://localhost:8080/",
          "height": 269
        },
        "id": "gvBCf6Av0G-M",
        "outputId": "14bd32e0-9ca2-4c80-a94d-056d0ed44a17"
      },
      "outputs": [
        {
          "data": {
            "text/html": [
              "\n",
              "  <div id=\"df-2e8ec156-dc34-429a-9511-17cb0d487655\">\n",
              "    <div class=\"colab-df-container\">\n",
              "      <div>\n",
              "<style scoped>\n",
              "    .dataframe tbody tr th:only-of-type {\n",
              "        vertical-align: middle;\n",
              "    }\n",
              "\n",
              "    .dataframe tbody tr th {\n",
              "        vertical-align: top;\n",
              "    }\n",
              "\n",
              "    .dataframe thead th {\n",
              "        text-align: right;\n",
              "    }\n",
              "</style>\n",
              "<table border=\"1\" class=\"dataframe\">\n",
              "  <thead>\n",
              "    <tr style=\"text-align: right;\">\n",
              "      <th>param_learning_rate</th>\n",
              "      <th>0.1</th>\n",
              "      <th>0.2</th>\n",
              "      <th>0.5</th>\n",
              "      <th>1.0</th>\n",
              "    </tr>\n",
              "    <tr>\n",
              "      <th>param_n_estimators</th>\n",
              "      <th></th>\n",
              "      <th></th>\n",
              "      <th></th>\n",
              "      <th></th>\n",
              "    </tr>\n",
              "  </thead>\n",
              "  <tbody>\n",
              "    <tr>\n",
              "      <th>50.0</th>\n",
              "      <td>0.726255</td>\n",
              "      <td>0.759643</td>\n",
              "      <td>0.789490</td>\n",
              "      <td>0.802528</td>\n",
              "    </tr>\n",
              "    <tr>\n",
              "      <th>100.0</th>\n",
              "      <td>0.762280</td>\n",
              "      <td>0.798038</td>\n",
              "      <td>0.833990</td>\n",
              "      <td>0.847574</td>\n",
              "    </tr>\n",
              "    <tr>\n",
              "      <th>150.0</th>\n",
              "      <td>0.785724</td>\n",
              "      <td>0.822786</td>\n",
              "      <td>0.862063</td>\n",
              "      <td>0.881956</td>\n",
              "    </tr>\n",
              "    <tr>\n",
              "      <th>200.0</th>\n",
              "      <td>0.801605</td>\n",
              "      <td>0.842080</td>\n",
              "      <td>0.887443</td>\n",
              "      <td>0.907705</td>\n",
              "    </tr>\n",
              "    <tr>\n",
              "      <th>250.0</th>\n",
              "      <td>0.814929</td>\n",
              "      <td>0.857946</td>\n",
              "      <td>0.907687</td>\n",
              "      <td>0.928176</td>\n",
              "    </tr>\n",
              "    <tr>\n",
              "      <th>300.0</th>\n",
              "      <td>0.827638</td>\n",
              "      <td>0.872263</td>\n",
              "      <td>0.922850</td>\n",
              "      <td>0.944777</td>\n",
              "    </tr>\n",
              "  </tbody>\n",
              "</table>\n",
              "</div>\n",
              "      <button class=\"colab-df-convert\" onclick=\"convertToInteractive('df-2e8ec156-dc34-429a-9511-17cb0d487655')\"\n",
              "              title=\"Convert this dataframe to an interactive table.\"\n",
              "              style=\"display:none;\">\n",
              "        \n",
              "  <svg xmlns=\"http://www.w3.org/2000/svg\" height=\"24px\"viewBox=\"0 0 24 24\"\n",
              "       width=\"24px\">\n",
              "    <path d=\"M0 0h24v24H0V0z\" fill=\"none\"/>\n",
              "    <path d=\"M18.56 5.44l.94 2.06.94-2.06 2.06-.94-2.06-.94-.94-2.06-.94 2.06-2.06.94zm-11 1L8.5 8.5l.94-2.06 2.06-.94-2.06-.94L8.5 2.5l-.94 2.06-2.06.94zm10 10l.94 2.06.94-2.06 2.06-.94-2.06-.94-.94-2.06-.94 2.06-2.06.94z\"/><path d=\"M17.41 7.96l-1.37-1.37c-.4-.4-.92-.59-1.43-.59-.52 0-1.04.2-1.43.59L10.3 9.45l-7.72 7.72c-.78.78-.78 2.05 0 2.83L4 21.41c.39.39.9.59 1.41.59.51 0 1.02-.2 1.41-.59l7.78-7.78 2.81-2.81c.8-.78.8-2.07 0-2.86zM5.41 20L4 18.59l7.72-7.72 1.47 1.35L5.41 20z\"/>\n",
              "  </svg>\n",
              "      </button>\n",
              "      \n",
              "  <style>\n",
              "    .colab-df-container {\n",
              "      display:flex;\n",
              "      flex-wrap:wrap;\n",
              "      gap: 12px;\n",
              "    }\n",
              "\n",
              "    .colab-df-convert {\n",
              "      background-color: #E8F0FE;\n",
              "      border: none;\n",
              "      border-radius: 50%;\n",
              "      cursor: pointer;\n",
              "      display: none;\n",
              "      fill: #1967D2;\n",
              "      height: 32px;\n",
              "      padding: 0 0 0 0;\n",
              "      width: 32px;\n",
              "    }\n",
              "\n",
              "    .colab-df-convert:hover {\n",
              "      background-color: #E2EBFA;\n",
              "      box-shadow: 0px 1px 2px rgba(60, 64, 67, 0.3), 0px 1px 3px 1px rgba(60, 64, 67, 0.15);\n",
              "      fill: #174EA6;\n",
              "    }\n",
              "\n",
              "    [theme=dark] .colab-df-convert {\n",
              "      background-color: #3B4455;\n",
              "      fill: #D2E3FC;\n",
              "    }\n",
              "\n",
              "    [theme=dark] .colab-df-convert:hover {\n",
              "      background-color: #434B5C;\n",
              "      box-shadow: 0px 1px 3px 1px rgba(0, 0, 0, 0.15);\n",
              "      filter: drop-shadow(0px 1px 2px rgba(0, 0, 0, 0.3));\n",
              "      fill: #FFFFFF;\n",
              "    }\n",
              "  </style>\n",
              "\n",
              "      <script>\n",
              "        const buttonEl =\n",
              "          document.querySelector('#df-2e8ec156-dc34-429a-9511-17cb0d487655 button.colab-df-convert');\n",
              "        buttonEl.style.display =\n",
              "          google.colab.kernel.accessAllowed ? 'block' : 'none';\n",
              "\n",
              "        async function convertToInteractive(key) {\n",
              "          const element = document.querySelector('#df-2e8ec156-dc34-429a-9511-17cb0d487655');\n",
              "          const dataTable =\n",
              "            await google.colab.kernel.invokeFunction('convertToInteractive',\n",
              "                                                     [key], {});\n",
              "          if (!dataTable) return;\n",
              "\n",
              "          const docLinkHtml = 'Like what you see? Visit the ' +\n",
              "            '<a target=\"_blank\" href=https://colab.research.google.com/notebooks/data_table.ipynb>data table notebook</a>'\n",
              "            + ' to learn more about interactive tables.';\n",
              "          element.innerHTML = '';\n",
              "          dataTable['output_type'] = 'display_data';\n",
              "          await google.colab.output.renderOutput(dataTable, element);\n",
              "          const docLink = document.createElement('div');\n",
              "          docLink.innerHTML = docLinkHtml;\n",
              "          element.appendChild(docLink);\n",
              "        }\n",
              "      </script>\n",
              "    </div>\n",
              "  </div>\n",
              "  "
            ],
            "text/plain": [
              "param_learning_rate       0.1       0.2       0.5       1.0\n",
              "param_n_estimators                                         \n",
              "50.0                 0.726255  0.759643  0.789490  0.802528\n",
              "100.0                0.762280  0.798038  0.833990  0.847574\n",
              "150.0                0.785724  0.822786  0.862063  0.881956\n",
              "200.0                0.801605  0.842080  0.887443  0.907705\n",
              "250.0                0.814929  0.857946  0.907687  0.928176\n",
              "300.0                0.827638  0.872263  0.922850  0.944777"
            ]
          },
          "execution_count": 39,
          "metadata": {},
          "output_type": "execute_result"
        }
      ],
      "source": [
        "# results_pivoted_train = results.pivot('param_max_depth','param_min_samples_split', 'mean_train_score')\n",
        "# results_pivoted_train\n",
        "pivoted_train_results_set1 = results_set1.pivot('param_n_estimators', 'param_learning_rate', 'mean_train_score')\n",
        "pivoted_train_results_set1"
      ]
    },
    {
      "cell_type": "code",
      "execution_count": null,
      "metadata": {
        "colab": {
          "base_uri": "https://localhost:8080/",
          "height": 269
        },
        "id": "xKIf6DVC0GPS",
        "outputId": "9122bc17-f0b7-444c-e126-5d772e502343"
      },
      "outputs": [
        {
          "data": {
            "text/html": [
              "\n",
              "  <div id=\"df-3c7845cd-27de-45c6-8ab9-e363daba79ce\">\n",
              "    <div class=\"colab-df-container\">\n",
              "      <div>\n",
              "<style scoped>\n",
              "    .dataframe tbody tr th:only-of-type {\n",
              "        vertical-align: middle;\n",
              "    }\n",
              "\n",
              "    .dataframe tbody tr th {\n",
              "        vertical-align: top;\n",
              "    }\n",
              "\n",
              "    .dataframe thead th {\n",
              "        text-align: right;\n",
              "    }\n",
              "</style>\n",
              "<table border=\"1\" class=\"dataframe\">\n",
              "  <thead>\n",
              "    <tr style=\"text-align: right;\">\n",
              "      <th>param_learning_rate</th>\n",
              "      <th>0.1</th>\n",
              "      <th>0.2</th>\n",
              "      <th>0.5</th>\n",
              "      <th>1.0</th>\n",
              "    </tr>\n",
              "    <tr>\n",
              "      <th>param_n_estimators</th>\n",
              "      <th></th>\n",
              "      <th></th>\n",
              "      <th></th>\n",
              "      <th></th>\n",
              "    </tr>\n",
              "  </thead>\n",
              "  <tbody>\n",
              "    <tr>\n",
              "      <th>50.0</th>\n",
              "      <td>0.686423</td>\n",
              "      <td>0.702647</td>\n",
              "      <td>0.706321</td>\n",
              "      <td>0.691782</td>\n",
              "    </tr>\n",
              "    <tr>\n",
              "      <th>100.0</th>\n",
              "      <td>0.704009</td>\n",
              "      <td>0.714243</td>\n",
              "      <td>0.707605</td>\n",
              "      <td>0.681026</td>\n",
              "    </tr>\n",
              "    <tr>\n",
              "      <th>150.0</th>\n",
              "      <td>0.711570</td>\n",
              "      <td>0.719406</td>\n",
              "      <td>0.707020</td>\n",
              "      <td>0.675697</td>\n",
              "    </tr>\n",
              "    <tr>\n",
              "      <th>200.0</th>\n",
              "      <td>0.717475</td>\n",
              "      <td>0.721068</td>\n",
              "      <td>0.705311</td>\n",
              "      <td>0.672608</td>\n",
              "    </tr>\n",
              "    <tr>\n",
              "      <th>250.0</th>\n",
              "      <td>0.720281</td>\n",
              "      <td>0.722514</td>\n",
              "      <td>0.703833</td>\n",
              "      <td>0.668733</td>\n",
              "    </tr>\n",
              "    <tr>\n",
              "      <th>300.0</th>\n",
              "      <td>0.722135</td>\n",
              "      <td>0.723683</td>\n",
              "      <td>0.701494</td>\n",
              "      <td>0.665895</td>\n",
              "    </tr>\n",
              "  </tbody>\n",
              "</table>\n",
              "</div>\n",
              "      <button class=\"colab-df-convert\" onclick=\"convertToInteractive('df-3c7845cd-27de-45c6-8ab9-e363daba79ce')\"\n",
              "              title=\"Convert this dataframe to an interactive table.\"\n",
              "              style=\"display:none;\">\n",
              "        \n",
              "  <svg xmlns=\"http://www.w3.org/2000/svg\" height=\"24px\"viewBox=\"0 0 24 24\"\n",
              "       width=\"24px\">\n",
              "    <path d=\"M0 0h24v24H0V0z\" fill=\"none\"/>\n",
              "    <path d=\"M18.56 5.44l.94 2.06.94-2.06 2.06-.94-2.06-.94-.94-2.06-.94 2.06-2.06.94zm-11 1L8.5 8.5l.94-2.06 2.06-.94-2.06-.94L8.5 2.5l-.94 2.06-2.06.94zm10 10l.94 2.06.94-2.06 2.06-.94-2.06-.94-.94-2.06-.94 2.06-2.06.94z\"/><path d=\"M17.41 7.96l-1.37-1.37c-.4-.4-.92-.59-1.43-.59-.52 0-1.04.2-1.43.59L10.3 9.45l-7.72 7.72c-.78.78-.78 2.05 0 2.83L4 21.41c.39.39.9.59 1.41.59.51 0 1.02-.2 1.41-.59l7.78-7.78 2.81-2.81c.8-.78.8-2.07 0-2.86zM5.41 20L4 18.59l7.72-7.72 1.47 1.35L5.41 20z\"/>\n",
              "  </svg>\n",
              "      </button>\n",
              "      \n",
              "  <style>\n",
              "    .colab-df-container {\n",
              "      display:flex;\n",
              "      flex-wrap:wrap;\n",
              "      gap: 12px;\n",
              "    }\n",
              "\n",
              "    .colab-df-convert {\n",
              "      background-color: #E8F0FE;\n",
              "      border: none;\n",
              "      border-radius: 50%;\n",
              "      cursor: pointer;\n",
              "      display: none;\n",
              "      fill: #1967D2;\n",
              "      height: 32px;\n",
              "      padding: 0 0 0 0;\n",
              "      width: 32px;\n",
              "    }\n",
              "\n",
              "    .colab-df-convert:hover {\n",
              "      background-color: #E2EBFA;\n",
              "      box-shadow: 0px 1px 2px rgba(60, 64, 67, 0.3), 0px 1px 3px 1px rgba(60, 64, 67, 0.15);\n",
              "      fill: #174EA6;\n",
              "    }\n",
              "\n",
              "    [theme=dark] .colab-df-convert {\n",
              "      background-color: #3B4455;\n",
              "      fill: #D2E3FC;\n",
              "    }\n",
              "\n",
              "    [theme=dark] .colab-df-convert:hover {\n",
              "      background-color: #434B5C;\n",
              "      box-shadow: 0px 1px 3px 1px rgba(0, 0, 0, 0.15);\n",
              "      filter: drop-shadow(0px 1px 2px rgba(0, 0, 0, 0.3));\n",
              "      fill: #FFFFFF;\n",
              "    }\n",
              "  </style>\n",
              "\n",
              "      <script>\n",
              "        const buttonEl =\n",
              "          document.querySelector('#df-3c7845cd-27de-45c6-8ab9-e363daba79ce button.colab-df-convert');\n",
              "        buttonEl.style.display =\n",
              "          google.colab.kernel.accessAllowed ? 'block' : 'none';\n",
              "\n",
              "        async function convertToInteractive(key) {\n",
              "          const element = document.querySelector('#df-3c7845cd-27de-45c6-8ab9-e363daba79ce');\n",
              "          const dataTable =\n",
              "            await google.colab.kernel.invokeFunction('convertToInteractive',\n",
              "                                                     [key], {});\n",
              "          if (!dataTable) return;\n",
              "\n",
              "          const docLinkHtml = 'Like what you see? Visit the ' +\n",
              "            '<a target=\"_blank\" href=https://colab.research.google.com/notebooks/data_table.ipynb>data table notebook</a>'\n",
              "            + ' to learn more about interactive tables.';\n",
              "          element.innerHTML = '';\n",
              "          dataTable['output_type'] = 'display_data';\n",
              "          await google.colab.output.renderOutput(dataTable, element);\n",
              "          const docLink = document.createElement('div');\n",
              "          docLink.innerHTML = docLinkHtml;\n",
              "          element.appendChild(docLink);\n",
              "        }\n",
              "      </script>\n",
              "    </div>\n",
              "  </div>\n",
              "  "
            ],
            "text/plain": [
              "param_learning_rate       0.1       0.2       0.5       1.0\n",
              "param_n_estimators                                         \n",
              "50.0                 0.686423  0.702647  0.706321  0.691782\n",
              "100.0                0.704009  0.714243  0.707605  0.681026\n",
              "150.0                0.711570  0.719406  0.707020  0.675697\n",
              "200.0                0.717475  0.721068  0.705311  0.672608\n",
              "250.0                0.720281  0.722514  0.703833  0.668733\n",
              "300.0                0.722135  0.723683  0.701494  0.665895"
            ]
          },
          "execution_count": 40,
          "metadata": {},
          "output_type": "execute_result"
        }
      ],
      "source": [
        "pivoted_test_results_set1 = results_set1.pivot('param_n_estimators', 'param_learning_rate', 'mean_test_score')\n",
        "pivoted_test_results_set1"
      ]
    },
    {
      "cell_type": "code",
      "execution_count": null,
      "metadata": {
        "colab": {
          "base_uri": "https://localhost:8080/",
          "height": 459
        },
        "id": "dkxjs7u5QJbX",
        "outputId": "cb3dd7e7-39bf-4aca-9415-0481519eceaa"
      },
      "outputs": [
        {
          "data": {
            "image/png": "[encoded data removed]",
            "text/plain": [
              "<Figure size 1152x504 with 4 Axes>"
            ]
          },
          "metadata": {
            "needs_background": "light"
          },
          "output_type": "display_data"
        }
      ],
      "source": [
        "# heatmap\n",
        "# Plotting the performance of the model corresponding to different parameter values for the train dataset\n",
        "\n",
        "plt.figure(figsize=(16,7))\n",
        "ax= plt.subplot(1,2,1);\n",
        "\n",
        "\n",
        "sns.heatmap(pivoted_train_results_set1,vmin=0.5, annot=True,ax=ax, cmap=\"Blues\", fmt='.4f');\n",
        "\n",
        "# labels, title and ticks\n",
        "ax.set_ylim((6.0), 0)\n",
        "ax.set_title('TRAIN AUC score matrix');\n",
        "\n",
        "\n",
        "# heatmap\n",
        "# Plotting the performance of the model corresponding to different parameter values for the train dataset\n",
        "\n",
        "# plt.figure(figsize=(7,5))\n",
        "ax= plt.subplot(1,2,2);\n",
        "\n",
        "\n",
        "sns.heatmap(pivoted_test_results_set1,vmin=0.5, annot=True,ax=ax, cmap=\"Greens\", fmt='.4f');\n",
        "\n",
        "# labels, title and ticks\n",
        "ax.set_ylim((6.0), 0)\n",
        "ax.set_title('CV AUC score matrix');"
      ]
    },
    {
      "cell_type": "code",
      "execution_count": null,
      "metadata": {
        "id": "Kwy2H5KcQJRw"
      },
      "outputs": [],
      "source": [
        "# best hyper-parameter : n_est = 300, learning_rate = 0.1"
      ]
    },
    {
      "cell_type": "code",
      "execution_count": null,
      "metadata": {
        "colab": {
          "base_uri": "https://localhost:8080/",
          "height": 279
        },
        "id": "-C-Edvm6QJIC",
        "outputId": "139cfffa-fff2-455d-88ac-d73e1972f266"
      },
      "outputs": [
        {
          "data": {
            "image/png": "[encoded data removed]",
            "text/plain": [
              "<Figure size 432x288 with 1 Axes>"
            ]
          },
          "metadata": {
            "needs_background": "light"
          },
          "output_type": "display_data"
        }
      ],
      "source": [
        "# Now we are going to train our model using the best hyperparameter and then see what auc score we get on the test data\n",
        "n_est = 300\n",
        "lr = 0.1\n",
        "\n",
        "gbdt = XGBClassifier(n_estimators=n_est,learning_rate=lr,booster='gbtree', n_jobs=-1)\n",
        "    \n",
        "gbdt.fit(X_tr_set1, y_train)       # Fitting our train data to the model\n",
        "\n",
        "# Predict the probability output for the train data points and store the auc_score\n",
        "y_train_pred = gbdt.predict_proba(X_tr_set1)[:,1]\n",
        "train_fpr, train_tpr, train_thresholds = roc_curve(y_train, y_train_pred)\n",
        "\n",
        "y_test_pred = gbdt.predict_proba(X_te_set1)[:,1]\n",
        "test_fpr, test_tpr, test_thresholds = roc_curve(y_test, y_test_pred)\n",
        "\n",
        "# Plot the ROC curve\n",
        "plt.plot(train_fpr, train_tpr, label='Train AUC='+str(auc(train_fpr,train_tpr)))\n",
        "plt.plot(test_fpr, test_tpr, label='Test AUC='+str(auc(test_fpr,test_tpr)))\n",
        "plt.grid()\n",
        "plt.legend()\n",
        "plt.xlabel('FPR')\n",
        "plt.xlabel('TPR')\n",
        "plt.show();"
      ]
    },
    {
      "cell_type": "code",
      "execution_count": null,
      "metadata": {
        "id": "E6lGLEh9ANJE"
      },
      "outputs": [],
      "source": [
        "# the best threshold will be the one for which the tpr*(1-fpr) value is the maximum\n",
        "def find_best_thresold(thresholds, fpr, tpr):\n",
        "    t = thresholds[np.argmax(tpr*(1-fpr))]\n",
        "    print(f\"The best thershold for which tpr-(1-fpr) is maximum is {t}\")\n",
        "    return t\n",
        "\n",
        "# This function returns the class label for a given threshold and probalbilty value \n",
        "def predict_with_best_proba(proba, threshold):\n",
        "    \n",
        "    predictions = []\n",
        "    \n",
        "    for i in proba:\n",
        "        if i> threshold:\n",
        "            predictions.append(1)\n",
        "        else:\n",
        "            predictions.append(0)\n",
        "    return predictions"
      ]
    },
    {
      "cell_type": "code",
      "execution_count": null,
      "metadata": {
        "colab": {
          "base_uri": "https://localhost:8080/"
        },
        "id": "W24BEEiVQI98",
        "outputId": "d63a0bcb-92c7-4efc-9245-ed699e290895"
      },
      "outputs": [
        {
          "name": "stdout",
          "output_type": "stream",
          "text": [
            "The best thershold for which tpr-(1-fpr) is maximum is 0.8319200873374939\n",
            "Train Confusion matrix:\n",
            " [[ 6000  1940]\n",
            " [11500 32998]]\n",
            "Test Confusion matrix:\n",
            " [[ 2091  1217]\n",
            " [ 5287 13255]]\n"
          ]
        }
      ],
      "source": [
        "# Find the best threshold\n",
        "\n",
        "best_threshold = find_best_thresold(train_thresholds, train_fpr, train_tpr)\n",
        "\n",
        "# Print the TRAIN confusion matrix\n",
        "print(\"Train Confusion matrix:\\n\",confusion_matrix(y_train, predict_with_best_proba(y_train_pred, best_threshold)))\n",
        "\n",
        "# Print the Test confusion matrix\n",
        "print(\"Test Confusion matrix:\\n\",confusion_matrix(y_test, predict_with_best_proba(y_test_pred, best_threshold)))"
      ]
    },
    {
      "cell_type": "code",
      "execution_count": null,
      "metadata": {
        "colab": {
          "base_uri": "https://localhost:8080/",
          "height": 295
        },
        "id": "t0qyuTYIQIzS",
        "outputId": "9a25fb76-5283-4514-a1a5-5cd256a96558"
      },
      "outputs": [
        {
          "data": {
            "image/png": "[encoded data removed]",
            "text/plain": [
              "<Figure size 432x288 with 2 Axes>"
            ]
          },
          "metadata": {
            "needs_background": "light"
          },
          "output_type": "display_data"
        }
      ],
      "source": [
        "# Reference : https://stackoverflow.com/questions/61748441/how-to-fix-the-values-displayed-in-a-confusion-matrix-in-exponential-form-to-nor\n",
        "\n",
        "# Store the confusion matrix and use it to plot the heatmap\n",
        "cm=confusion_matrix(y_train, predict_with_best_proba(y_train_pred, best_threshold))\n",
        "\n",
        "ax= plt.subplot();\n",
        "sns.heatmap(cm, annot=True,cmap='Blues',ax=ax,fmt='d');\n",
        "\n",
        "# labels, title and ticks\n",
        "ax.set_xlabel('Predicted labels');\n",
        "ax.set_ylabel('True labels'); \n",
        "ax.set_ylim(2.0, 0)\n",
        "ax.set_title('Train Confusion Matrix');\n",
        "ax.xaxis.set_ticklabels(['0','1']); \n",
        "ax.yaxis.set_ticklabels(['0','1']);"
      ]
    },
    {
      "cell_type": "code",
      "execution_count": null,
      "metadata": {
        "colab": {
          "base_uri": "https://localhost:8080/",
          "height": 295
        },
        "id": "ulA94IOiQIoy",
        "outputId": "c36669fa-f922-454b-ed14-23247531e31e"
      },
      "outputs": [
        {
          "data": {
            "image/png": "[encoded data removed]",
            "text/plain": [
              "<Figure size 432x288 with 2 Axes>"
            ]
          },
          "metadata": {
            "needs_background": "light"
          },
          "output_type": "display_data"
        }
      ],
      "source": [
        "# Reference : https://stackoverflow.com/questions/61748441/how-to-fix-the-values-displayed-in-a-confusion-matrix-in-exponential-form-to-nor\n",
        "\n",
        "# Store the confusion matrix and use it to plot the heatmap\n",
        "cm=confusion_matrix(y_test, predict_with_best_proba(y_test_pred, best_threshold))\n",
        "\n",
        "ax= plt.subplot();\n",
        "sns.heatmap(cm, annot=True,cmap='Greens',ax=ax,fmt='d');\n",
        "\n",
        "# labels, title and ticks\n",
        "ax.set_xlabel('Predicted labels');\n",
        "ax.set_ylabel('True labels'); \n",
        "ax.set_ylim(2.0, 0)\n",
        "ax.set_title('Test Confusion Matrix');\n",
        "ax.xaxis.set_ticklabels(['0','1']); \n",
        "ax.yaxis.set_ticklabels(['0','1']);"
      ]
    },
    {
      "cell_type": "markdown",
      "metadata": {
        "id": "yx8RJQTukpTX"
      },
      "source": [
        "# 1.5.2 GBDT on SET-2 Features"
      ]
    },
    {
      "cell_type": "code",
      "execution_count": null,
      "metadata": {
        "id": "zGl2BPB5kpTX"
      },
      "outputs": [],
      "source": [
        "# Stacking all the train and test data together\n",
        "X_tr_set2 = np.hstack((X_train_tfidf_w2v_vectors, X_train_school_state, X_train_teacher_prefix, X_train_project_grade_category, X_train_clean_categories, X_train_clean_subcategories, X_train_price, X_train_tnoppp))\n",
        "X_cv_set2 = np.hstack((X_cv_tfidf_w2v_vectors, X_cv_school_state, X_cv_teacher_prefix, X_cv_project_grade_category, X_cv_clean_categories, X_cv_clean_subcategories, X_cv_price, X_cv_tnoppp))\n",
        "X_te_set2 = np.hstack((X_test_tfidf_w2v_vectors, X_test_school_state, X_test_teacher_prefix, X_test_project_grade_category, X_test_clean_categories, X_test_clean_subcategories, X_test_price, X_test_tnoppp))"
      ]
    },
    {
      "cell_type": "code",
      "execution_count": null,
      "metadata": {
        "id": "l11oOmmWwgET"
      },
      "outputs": [],
      "source": [
        "# These are the values of hyper-parameters we want to test for our models\n",
        "n_estimators = [50,100, 150, 200,250,300]\n",
        "learning_rates = [0.1, 0.2, 0.5,1]\n",
        "\n",
        "# initializing a dataframe to store the model results\n",
        "results_set2 = pd.DataFrame(columns=['param_n_estimators','param_learning_rate','mean_train_score','mean_test_score'])\n",
        "\n",
        "for n_est in n_estimators:     # Iterate over the n_estimator parameter  \n",
        "    \n",
        "    for lr in learning_rates:    # Iterate over the learning rate parameter\n",
        "\n",
        "        # Initializing our model with the parameters\n",
        "        gbdt = XGBClassifier(n_estimators=n_est,learning_rate=lr,booster='gbtree', n_jobs=-1)\n",
        "\n",
        "        gbdt.fit(X_tr_set2, y_train)       # Fitting our train data to the model\n",
        "\n",
        "        # Predict the probability output for the train data points and store the auc_score\n",
        "        y_train_pred = gbdt.predict_proba(X_tr_set2)[:,1]\n",
        "        y_train_score = roc_auc_score(y_train, y_train_pred)\n",
        "\n",
        "        # Predict the probability output for the CV data points and store the auc_score\n",
        "        y_cv_pred = gbdt.predict_proba(X_cv_set2)[:,1]\n",
        "        y_cv_score = roc_auc_score(y_cv, y_cv_pred)\n",
        "\n",
        "        # Store the all the model details in the dataframe\n",
        "        results_set2.loc[len(results_set2.index)] = [n_est, lr, y_train_score, y_cv_score]\n"
      ]
    },
    {
      "cell_type": "code",
      "execution_count": null,
      "metadata": {
        "colab": {
          "base_uri": "https://localhost:8080/",
          "height": 802
        },
        "id": "5Zq97f7UKpHi",
        "outputId": "b20ed337-6ee9-4262-c007-244699133e52"
      },
      "outputs": [
        {
          "data": {
            "text/html": [
              "\n",
              "  <div id=\"df-6bcc008d-6435-459c-b795-9274e9b97c90\">\n",
              "    <div class=\"colab-df-container\">\n",
              "      <div>\n",
              "<style scoped>\n",
              "    .dataframe tbody tr th:only-of-type {\n",
              "        vertical-align: middle;\n",
              "    }\n",
              "\n",
              "    .dataframe tbody tr th {\n",
              "        vertical-align: top;\n",
              "    }\n",
              "\n",
              "    .dataframe thead th {\n",
              "        text-align: right;\n",
              "    }\n",
              "</style>\n",
              "<table border=\"1\" class=\"dataframe\">\n",
              "  <thead>\n",
              "    <tr style=\"text-align: right;\">\n",
              "      <th></th>\n",
              "      <th>param_n_estimators</th>\n",
              "      <th>param_learning_rate</th>\n",
              "      <th>mean_train_score</th>\n",
              "      <th>mean_test_score</th>\n",
              "    </tr>\n",
              "  </thead>\n",
              "  <tbody>\n",
              "    <tr>\n",
              "      <th>0</th>\n",
              "      <td>50.0</td>\n",
              "      <td>0.1</td>\n",
              "      <td>0.729449</td>\n",
              "      <td>0.691978</td>\n",
              "    </tr>\n",
              "    <tr>\n",
              "      <th>1</th>\n",
              "      <td>50.0</td>\n",
              "      <td>0.2</td>\n",
              "      <td>0.754837</td>\n",
              "      <td>0.701188</td>\n",
              "    </tr>\n",
              "    <tr>\n",
              "      <th>2</th>\n",
              "      <td>50.0</td>\n",
              "      <td>0.5</td>\n",
              "      <td>0.782350</td>\n",
              "      <td>0.694079</td>\n",
              "    </tr>\n",
              "    <tr>\n",
              "      <th>3</th>\n",
              "      <td>50.0</td>\n",
              "      <td>1.0</td>\n",
              "      <td>0.795051</td>\n",
              "      <td>0.672145</td>\n",
              "    </tr>\n",
              "    <tr>\n",
              "      <th>4</th>\n",
              "      <td>100.0</td>\n",
              "      <td>0.1</td>\n",
              "      <td>0.757523</td>\n",
              "      <td>0.702555</td>\n",
              "    </tr>\n",
              "    <tr>\n",
              "      <th>5</th>\n",
              "      <td>100.0</td>\n",
              "      <td>0.2</td>\n",
              "      <td>0.787748</td>\n",
              "      <td>0.704158</td>\n",
              "    </tr>\n",
              "    <tr>\n",
              "      <th>6</th>\n",
              "      <td>100.0</td>\n",
              "      <td>0.5</td>\n",
              "      <td>0.828221</td>\n",
              "      <td>0.692403</td>\n",
              "    </tr>\n",
              "    <tr>\n",
              "      <th>7</th>\n",
              "      <td>100.0</td>\n",
              "      <td>1.0</td>\n",
              "      <td>0.849038</td>\n",
              "      <td>0.664358</td>\n",
              "    </tr>\n",
              "    <tr>\n",
              "      <th>8</th>\n",
              "      <td>150.0</td>\n",
              "      <td>0.1</td>\n",
              "      <td>0.773811</td>\n",
              "      <td>0.704050</td>\n",
              "    </tr>\n",
              "    <tr>\n",
              "      <th>9</th>\n",
              "      <td>150.0</td>\n",
              "      <td>0.2</td>\n",
              "      <td>0.811645</td>\n",
              "      <td>0.705563</td>\n",
              "    </tr>\n",
              "    <tr>\n",
              "      <th>10</th>\n",
              "      <td>150.0</td>\n",
              "      <td>0.5</td>\n",
              "      <td>0.860894</td>\n",
              "      <td>0.688845</td>\n",
              "    </tr>\n",
              "    <tr>\n",
              "      <th>11</th>\n",
              "      <td>150.0</td>\n",
              "      <td>1.0</td>\n",
              "      <td>0.887722</td>\n",
              "      <td>0.656410</td>\n",
              "    </tr>\n",
              "    <tr>\n",
              "      <th>12</th>\n",
              "      <td>200.0</td>\n",
              "      <td>0.1</td>\n",
              "      <td>0.788854</td>\n",
              "      <td>0.706475</td>\n",
              "    </tr>\n",
              "    <tr>\n",
              "      <th>13</th>\n",
              "      <td>200.0</td>\n",
              "      <td>0.2</td>\n",
              "      <td>0.832830</td>\n",
              "      <td>0.704378</td>\n",
              "    </tr>\n",
              "    <tr>\n",
              "      <th>14</th>\n",
              "      <td>200.0</td>\n",
              "      <td>0.5</td>\n",
              "      <td>0.888127</td>\n",
              "      <td>0.685088</td>\n",
              "    </tr>\n",
              "    <tr>\n",
              "      <th>15</th>\n",
              "      <td>200.0</td>\n",
              "      <td>1.0</td>\n",
              "      <td>0.917144</td>\n",
              "      <td>0.651061</td>\n",
              "    </tr>\n",
              "    <tr>\n",
              "      <th>16</th>\n",
              "      <td>250.0</td>\n",
              "      <td>0.1</td>\n",
              "      <td>0.802856</td>\n",
              "      <td>0.707555</td>\n",
              "    </tr>\n",
              "    <tr>\n",
              "      <th>17</th>\n",
              "      <td>250.0</td>\n",
              "      <td>0.2</td>\n",
              "      <td>0.849423</td>\n",
              "      <td>0.703777</td>\n",
              "    </tr>\n",
              "    <tr>\n",
              "      <th>18</th>\n",
              "      <td>250.0</td>\n",
              "      <td>0.5</td>\n",
              "      <td>0.909605</td>\n",
              "      <td>0.681333</td>\n",
              "    </tr>\n",
              "    <tr>\n",
              "      <th>19</th>\n",
              "      <td>250.0</td>\n",
              "      <td>1.0</td>\n",
              "      <td>0.940200</td>\n",
              "      <td>0.645494</td>\n",
              "    </tr>\n",
              "    <tr>\n",
              "      <th>20</th>\n",
              "      <td>300.0</td>\n",
              "      <td>0.1</td>\n",
              "      <td>0.814718</td>\n",
              "      <td>0.707880</td>\n",
              "    </tr>\n",
              "    <tr>\n",
              "      <th>21</th>\n",
              "      <td>300.0</td>\n",
              "      <td>0.2</td>\n",
              "      <td>0.865180</td>\n",
              "      <td>0.702529</td>\n",
              "    </tr>\n",
              "    <tr>\n",
              "      <th>22</th>\n",
              "      <td>300.0</td>\n",
              "      <td>0.5</td>\n",
              "      <td>0.927933</td>\n",
              "      <td>0.675177</td>\n",
              "    </tr>\n",
              "    <tr>\n",
              "      <th>23</th>\n",
              "      <td>300.0</td>\n",
              "      <td>1.0</td>\n",
              "      <td>0.957835</td>\n",
              "      <td>0.642810</td>\n",
              "    </tr>\n",
              "  </tbody>\n",
              "</table>\n",
              "</div>\n",
              "      <button class=\"colab-df-convert\" onclick=\"convertToInteractive('df-6bcc008d-6435-459c-b795-9274e9b97c90')\"\n",
              "              title=\"Convert this dataframe to an interactive table.\"\n",
              "              style=\"display:none;\">\n",
              "        \n",
              "  <svg xmlns=\"http://www.w3.org/2000/svg\" height=\"24px\"viewBox=\"0 0 24 24\"\n",
              "       width=\"24px\">\n",
              "    <path d=\"M0 0h24v24H0V0z\" fill=\"none\"/>\n",
              "    <path d=\"M18.56 5.44l.94 2.06.94-2.06 2.06-.94-2.06-.94-.94-2.06-.94 2.06-2.06.94zm-11 1L8.5 8.5l.94-2.06 2.06-.94-2.06-.94L8.5 2.5l-.94 2.06-2.06.94zm10 10l.94 2.06.94-2.06 2.06-.94-2.06-.94-.94-2.06-.94 2.06-2.06.94z\"/><path d=\"M17.41 7.96l-1.37-1.37c-.4-.4-.92-.59-1.43-.59-.52 0-1.04.2-1.43.59L10.3 9.45l-7.72 7.72c-.78.78-.78 2.05 0 2.83L4 21.41c.39.39.9.59 1.41.59.51 0 1.02-.2 1.41-.59l7.78-7.78 2.81-2.81c.8-.78.8-2.07 0-2.86zM5.41 20L4 18.59l7.72-7.72 1.47 1.35L5.41 20z\"/>\n",
              "  </svg>\n",
              "      </button>\n",
              "      \n",
              "  <style>\n",
              "    .colab-df-container {\n",
              "      display:flex;\n",
              "      flex-wrap:wrap;\n",
              "      gap: 12px;\n",
              "    }\n",
              "\n",
              "    .colab-df-convert {\n",
              "      background-color: #E8F0FE;\n",
              "      border: none;\n",
              "      border-radius: 50%;\n",
              "      cursor: pointer;\n",
              "      display: none;\n",
              "      fill: #1967D2;\n",
              "      height: 32px;\n",
              "      padding: 0 0 0 0;\n",
              "      width: 32px;\n",
              "    }\n",
              "\n",
              "    .colab-df-convert:hover {\n",
              "      background-color: #E2EBFA;\n",
              "      box-shadow: 0px 1px 2px rgba(60, 64, 67, 0.3), 0px 1px 3px 1px rgba(60, 64, 67, 0.15);\n",
              "      fill: #174EA6;\n",
              "    }\n",
              "\n",
              "    [theme=dark] .colab-df-convert {\n",
              "      background-color: #3B4455;\n",
              "      fill: #D2E3FC;\n",
              "    }\n",
              "\n",
              "    [theme=dark] .colab-df-convert:hover {\n",
              "      background-color: #434B5C;\n",
              "      box-shadow: 0px 1px 3px 1px rgba(0, 0, 0, 0.15);\n",
              "      filter: drop-shadow(0px 1px 2px rgba(0, 0, 0, 0.3));\n",
              "      fill: #FFFFFF;\n",
              "    }\n",
              "  </style>\n",
              "\n",
              "      <script>\n",
              "        const buttonEl =\n",
              "          document.querySelector('#df-6bcc008d-6435-459c-b795-9274e9b97c90 button.colab-df-convert');\n",
              "        buttonEl.style.display =\n",
              "          google.colab.kernel.accessAllowed ? 'block' : 'none';\n",
              "\n",
              "        async function convertToInteractive(key) {\n",
              "          const element = document.querySelector('#df-6bcc008d-6435-459c-b795-9274e9b97c90');\n",
              "          const dataTable =\n",
              "            await google.colab.kernel.invokeFunction('convertToInteractive',\n",
              "                                                     [key], {});\n",
              "          if (!dataTable) return;\n",
              "\n",
              "          const docLinkHtml = 'Like what you see? Visit the ' +\n",
              "            '<a target=\"_blank\" href=https://colab.research.google.com/notebooks/data_table.ipynb>data table notebook</a>'\n",
              "            + ' to learn more about interactive tables.';\n",
              "          element.innerHTML = '';\n",
              "          dataTable['output_type'] = 'display_data';\n",
              "          await google.colab.output.renderOutput(dataTable, element);\n",
              "          const docLink = document.createElement('div');\n",
              "          docLink.innerHTML = docLinkHtml;\n",
              "          element.appendChild(docLink);\n",
              "        }\n",
              "      </script>\n",
              "    </div>\n",
              "  </div>\n",
              "  "
            ],
            "text/plain": [
              "    param_n_estimators  param_learning_rate  mean_train_score  mean_test_score\n",
              "0                 50.0                  0.1          0.729449         0.691978\n",
              "1                 50.0                  0.2          0.754837         0.701188\n",
              "2                 50.0                  0.5          0.782350         0.694079\n",
              "3                 50.0                  1.0          0.795051         0.672145\n",
              "4                100.0                  0.1          0.757523         0.702555\n",
              "5                100.0                  0.2          0.787748         0.704158\n",
              "6                100.0                  0.5          0.828221         0.692403\n",
              "7                100.0                  1.0          0.849038         0.664358\n",
              "8                150.0                  0.1          0.773811         0.704050\n",
              "9                150.0                  0.2          0.811645         0.705563\n",
              "10               150.0                  0.5          0.860894         0.688845\n",
              "11               150.0                  1.0          0.887722         0.656410\n",
              "12               200.0                  0.1          0.788854         0.706475\n",
              "13               200.0                  0.2          0.832830         0.704378\n",
              "14               200.0                  0.5          0.888127         0.685088\n",
              "15               200.0                  1.0          0.917144         0.651061\n",
              "16               250.0                  0.1          0.802856         0.707555\n",
              "17               250.0                  0.2          0.849423         0.703777\n",
              "18               250.0                  0.5          0.909605         0.681333\n",
              "19               250.0                  1.0          0.940200         0.645494\n",
              "20               300.0                  0.1          0.814718         0.707880\n",
              "21               300.0                  0.2          0.865180         0.702529\n",
              "22               300.0                  0.5          0.927933         0.675177\n",
              "23               300.0                  1.0          0.957835         0.642810"
            ]
          },
          "execution_count": 100,
          "metadata": {},
          "output_type": "execute_result"
        }
      ],
      "source": [
        "results_set2"
      ]
    },
    {
      "cell_type": "code",
      "execution_count": null,
      "metadata": {
        "colab": {
          "base_uri": "https://localhost:8080/",
          "height": 269
        },
        "id": "wMgDzVbpLX09",
        "outputId": "21285314-2fbe-43ec-d000-639db382a2bd"
      },
      "outputs": [
        {
          "data": {
            "text/html": [
              "\n",
              "  <div id=\"df-1ba7479b-d46c-46ab-b29d-dec4e0f65ec6\">\n",
              "    <div class=\"colab-df-container\">\n",
              "      <div>\n",
              "<style scoped>\n",
              "    .dataframe tbody tr th:only-of-type {\n",
              "        vertical-align: middle;\n",
              "    }\n",
              "\n",
              "    .dataframe tbody tr th {\n",
              "        vertical-align: top;\n",
              "    }\n",
              "\n",
              "    .dataframe thead th {\n",
              "        text-align: right;\n",
              "    }\n",
              "</style>\n",
              "<table border=\"1\" class=\"dataframe\">\n",
              "  <thead>\n",
              "    <tr style=\"text-align: right;\">\n",
              "      <th>param_learning_rate</th>\n",
              "      <th>0.1</th>\n",
              "      <th>0.2</th>\n",
              "      <th>0.5</th>\n",
              "      <th>1.0</th>\n",
              "    </tr>\n",
              "    <tr>\n",
              "      <th>param_n_estimators</th>\n",
              "      <th></th>\n",
              "      <th></th>\n",
              "      <th></th>\n",
              "      <th></th>\n",
              "    </tr>\n",
              "  </thead>\n",
              "  <tbody>\n",
              "    <tr>\n",
              "      <th>50.0</th>\n",
              "      <td>0.729449</td>\n",
              "      <td>0.754837</td>\n",
              "      <td>0.782350</td>\n",
              "      <td>0.795051</td>\n",
              "    </tr>\n",
              "    <tr>\n",
              "      <th>100.0</th>\n",
              "      <td>0.757523</td>\n",
              "      <td>0.787748</td>\n",
              "      <td>0.828221</td>\n",
              "      <td>0.849038</td>\n",
              "    </tr>\n",
              "    <tr>\n",
              "      <th>150.0</th>\n",
              "      <td>0.773811</td>\n",
              "      <td>0.811645</td>\n",
              "      <td>0.860894</td>\n",
              "      <td>0.887722</td>\n",
              "    </tr>\n",
              "    <tr>\n",
              "      <th>200.0</th>\n",
              "      <td>0.788854</td>\n",
              "      <td>0.832830</td>\n",
              "      <td>0.888127</td>\n",
              "      <td>0.917144</td>\n",
              "    </tr>\n",
              "    <tr>\n",
              "      <th>250.0</th>\n",
              "      <td>0.802856</td>\n",
              "      <td>0.849423</td>\n",
              "      <td>0.909605</td>\n",
              "      <td>0.940200</td>\n",
              "    </tr>\n",
              "    <tr>\n",
              "      <th>300.0</th>\n",
              "      <td>0.814718</td>\n",
              "      <td>0.865180</td>\n",
              "      <td>0.927933</td>\n",
              "      <td>0.957835</td>\n",
              "    </tr>\n",
              "  </tbody>\n",
              "</table>\n",
              "</div>\n",
              "      <button class=\"colab-df-convert\" onclick=\"convertToInteractive('df-1ba7479b-d46c-46ab-b29d-dec4e0f65ec6')\"\n",
              "              title=\"Convert this dataframe to an interactive table.\"\n",
              "              style=\"display:none;\">\n",
              "        \n",
              "  <svg xmlns=\"http://www.w3.org/2000/svg\" height=\"24px\"viewBox=\"0 0 24 24\"\n",
              "       width=\"24px\">\n",
              "    <path d=\"M0 0h24v24H0V0z\" fill=\"none\"/>\n",
              "    <path d=\"M18.56 5.44l.94 2.06.94-2.06 2.06-.94-2.06-.94-.94-2.06-.94 2.06-2.06.94zm-11 1L8.5 8.5l.94-2.06 2.06-.94-2.06-.94L8.5 2.5l-.94 2.06-2.06.94zm10 10l.94 2.06.94-2.06 2.06-.94-2.06-.94-.94-2.06-.94 2.06-2.06.94z\"/><path d=\"M17.41 7.96l-1.37-1.37c-.4-.4-.92-.59-1.43-.59-.52 0-1.04.2-1.43.59L10.3 9.45l-7.72 7.72c-.78.78-.78 2.05 0 2.83L4 21.41c.39.39.9.59 1.41.59.51 0 1.02-.2 1.41-.59l7.78-7.78 2.81-2.81c.8-.78.8-2.07 0-2.86zM5.41 20L4 18.59l7.72-7.72 1.47 1.35L5.41 20z\"/>\n",
              "  </svg>\n",
              "      </button>\n",
              "      \n",
              "  <style>\n",
              "    .colab-df-container {\n",
              "      display:flex;\n",
              "      flex-wrap:wrap;\n",
              "      gap: 12px;\n",
              "    }\n",
              "\n",
              "    .colab-df-convert {\n",
              "      background-color: #E8F0FE;\n",
              "      border: none;\n",
              "      border-radius: 50%;\n",
              "      cursor: pointer;\n",
              "      display: none;\n",
              "      fill: #1967D2;\n",
              "      height: 32px;\n",
              "      padding: 0 0 0 0;\n",
              "      width: 32px;\n",
              "    }\n",
              "\n",
              "    .colab-df-convert:hover {\n",
              "      background-color: #E2EBFA;\n",
              "      box-shadow: 0px 1px 2px rgba(60, 64, 67, 0.3), 0px 1px 3px 1px rgba(60, 64, 67, 0.15);\n",
              "      fill: #174EA6;\n",
              "    }\n",
              "\n",
              "    [theme=dark] .colab-df-convert {\n",
              "      background-color: #3B4455;\n",
              "      fill: #D2E3FC;\n",
              "    }\n",
              "\n",
              "    [theme=dark] .colab-df-convert:hover {\n",
              "      background-color: #434B5C;\n",
              "      box-shadow: 0px 1px 3px 1px rgba(0, 0, 0, 0.15);\n",
              "      filter: drop-shadow(0px 1px 2px rgba(0, 0, 0, 0.3));\n",
              "      fill: #FFFFFF;\n",
              "    }\n",
              "  </style>\n",
              "\n",
              "      <script>\n",
              "        const buttonEl =\n",
              "          document.querySelector('#df-1ba7479b-d46c-46ab-b29d-dec4e0f65ec6 button.colab-df-convert');\n",
              "        buttonEl.style.display =\n",
              "          google.colab.kernel.accessAllowed ? 'block' : 'none';\n",
              "\n",
              "        async function convertToInteractive(key) {\n",
              "          const element = document.querySelector('#df-1ba7479b-d46c-46ab-b29d-dec4e0f65ec6');\n",
              "          const dataTable =\n",
              "            await google.colab.kernel.invokeFunction('convertToInteractive',\n",
              "                                                     [key], {});\n",
              "          if (!dataTable) return;\n",
              "\n",
              "          const docLinkHtml = 'Like what you see? Visit the ' +\n",
              "            '<a target=\"_blank\" href=https://colab.research.google.com/notebooks/data_table.ipynb>data table notebook</a>'\n",
              "            + ' to learn more about interactive tables.';\n",
              "          element.innerHTML = '';\n",
              "          dataTable['output_type'] = 'display_data';\n",
              "          await google.colab.output.renderOutput(dataTable, element);\n",
              "          const docLink = document.createElement('div');\n",
              "          docLink.innerHTML = docLinkHtml;\n",
              "          element.appendChild(docLink);\n",
              "        }\n",
              "      </script>\n",
              "    </div>\n",
              "  </div>\n",
              "  "
            ],
            "text/plain": [
              "param_learning_rate       0.1       0.2       0.5       1.0\n",
              "param_n_estimators                                         \n",
              "50.0                 0.729449  0.754837  0.782350  0.795051\n",
              "100.0                0.757523  0.787748  0.828221  0.849038\n",
              "150.0                0.773811  0.811645  0.860894  0.887722\n",
              "200.0                0.788854  0.832830  0.888127  0.917144\n",
              "250.0                0.802856  0.849423  0.909605  0.940200\n",
              "300.0                0.814718  0.865180  0.927933  0.957835"
            ]
          },
          "execution_count": 101,
          "metadata": {},
          "output_type": "execute_result"
        }
      ],
      "source": [
        "# results_pivoted_train = results.pivot('param_max_depth','param_min_samples_split', 'mean_train_score')\n",
        "# results_pivoted_train\n",
        "pivoted_train_results_set2 = results_set2.pivot('param_n_estimators', 'param_learning_rate', 'mean_train_score')\n",
        "pivoted_train_results_set2"
      ]
    },
    {
      "cell_type": "code",
      "execution_count": null,
      "metadata": {
        "colab": {
          "base_uri": "https://localhost:8080/",
          "height": 269
        },
        "id": "Npe3ssFNLXfl",
        "outputId": "be251fee-5cc7-4bad-a69d-503bdbf69df9"
      },
      "outputs": [
        {
          "data": {
            "text/html": [
              "\n",
              "  <div id=\"df-1b33d0d2-f3b9-4f2e-b40d-8cce2c109f42\">\n",
              "    <div class=\"colab-df-container\">\n",
              "      <div>\n",
              "<style scoped>\n",
              "    .dataframe tbody tr th:only-of-type {\n",
              "        vertical-align: middle;\n",
              "    }\n",
              "\n",
              "    .dataframe tbody tr th {\n",
              "        vertical-align: top;\n",
              "    }\n",
              "\n",
              "    .dataframe thead th {\n",
              "        text-align: right;\n",
              "    }\n",
              "</style>\n",
              "<table border=\"1\" class=\"dataframe\">\n",
              "  <thead>\n",
              "    <tr style=\"text-align: right;\">\n",
              "      <th>param_learning_rate</th>\n",
              "      <th>0.1</th>\n",
              "      <th>0.2</th>\n",
              "      <th>0.5</th>\n",
              "      <th>1.0</th>\n",
              "    </tr>\n",
              "    <tr>\n",
              "      <th>param_n_estimators</th>\n",
              "      <th></th>\n",
              "      <th></th>\n",
              "      <th></th>\n",
              "      <th></th>\n",
              "    </tr>\n",
              "  </thead>\n",
              "  <tbody>\n",
              "    <tr>\n",
              "      <th>50.0</th>\n",
              "      <td>0.691978</td>\n",
              "      <td>0.701188</td>\n",
              "      <td>0.694079</td>\n",
              "      <td>0.672145</td>\n",
              "    </tr>\n",
              "    <tr>\n",
              "      <th>100.0</th>\n",
              "      <td>0.702555</td>\n",
              "      <td>0.704158</td>\n",
              "      <td>0.692403</td>\n",
              "      <td>0.664358</td>\n",
              "    </tr>\n",
              "    <tr>\n",
              "      <th>150.0</th>\n",
              "      <td>0.704050</td>\n",
              "      <td>0.705563</td>\n",
              "      <td>0.688845</td>\n",
              "      <td>0.656410</td>\n",
              "    </tr>\n",
              "    <tr>\n",
              "      <th>200.0</th>\n",
              "      <td>0.706475</td>\n",
              "      <td>0.704378</td>\n",
              "      <td>0.685088</td>\n",
              "      <td>0.651061</td>\n",
              "    </tr>\n",
              "    <tr>\n",
              "      <th>250.0</th>\n",
              "      <td>0.707555</td>\n",
              "      <td>0.703777</td>\n",
              "      <td>0.681333</td>\n",
              "      <td>0.645494</td>\n",
              "    </tr>\n",
              "    <tr>\n",
              "      <th>300.0</th>\n",
              "      <td>0.707880</td>\n",
              "      <td>0.702529</td>\n",
              "      <td>0.675177</td>\n",
              "      <td>0.642810</td>\n",
              "    </tr>\n",
              "  </tbody>\n",
              "</table>\n",
              "</div>\n",
              "      <button class=\"colab-df-convert\" onclick=\"convertToInteractive('df-1b33d0d2-f3b9-4f2e-b40d-8cce2c109f42')\"\n",
              "              title=\"Convert this dataframe to an interactive table.\"\n",
              "              style=\"display:none;\">\n",
              "        \n",
              "  <svg xmlns=\"http://www.w3.org/2000/svg\" height=\"24px\"viewBox=\"0 0 24 24\"\n",
              "       width=\"24px\">\n",
              "    <path d=\"M0 0h24v24H0V0z\" fill=\"none\"/>\n",
              "    <path d=\"M18.56 5.44l.94 2.06.94-2.06 2.06-.94-2.06-.94-.94-2.06-.94 2.06-2.06.94zm-11 1L8.5 8.5l.94-2.06 2.06-.94-2.06-.94L8.5 2.5l-.94 2.06-2.06.94zm10 10l.94 2.06.94-2.06 2.06-.94-2.06-.94-.94-2.06-.94 2.06-2.06.94z\"/><path d=\"M17.41 7.96l-1.37-1.37c-.4-.4-.92-.59-1.43-.59-.52 0-1.04.2-1.43.59L10.3 9.45l-7.72 7.72c-.78.78-.78 2.05 0 2.83L4 21.41c.39.39.9.59 1.41.59.51 0 1.02-.2 1.41-.59l7.78-7.78 2.81-2.81c.8-.78.8-2.07 0-2.86zM5.41 20L4 18.59l7.72-7.72 1.47 1.35L5.41 20z\"/>\n",
              "  </svg>\n",
              "      </button>\n",
              "      \n",
              "  <style>\n",
              "    .colab-df-container {\n",
              "      display:flex;\n",
              "      flex-wrap:wrap;\n",
              "      gap: 12px;\n",
              "    }\n",
              "\n",
              "    .colab-df-convert {\n",
              "      background-color: #E8F0FE;\n",
              "      border: none;\n",
              "      border-radius: 50%;\n",
              "      cursor: pointer;\n",
              "      display: none;\n",
              "      fill: #1967D2;\n",
              "      height: 32px;\n",
              "      padding: 0 0 0 0;\n",
              "      width: 32px;\n",
              "    }\n",
              "\n",
              "    .colab-df-convert:hover {\n",
              "      background-color: #E2EBFA;\n",
              "      box-shadow: 0px 1px 2px rgba(60, 64, 67, 0.3), 0px 1px 3px 1px rgba(60, 64, 67, 0.15);\n",
              "      fill: #174EA6;\n",
              "    }\n",
              "\n",
              "    [theme=dark] .colab-df-convert {\n",
              "      background-color: #3B4455;\n",
              "      fill: #D2E3FC;\n",
              "    }\n",
              "\n",
              "    [theme=dark] .colab-df-convert:hover {\n",
              "      background-color: #434B5C;\n",
              "      box-shadow: 0px 1px 3px 1px rgba(0, 0, 0, 0.15);\n",
              "      filter: drop-shadow(0px 1px 2px rgba(0, 0, 0, 0.3));\n",
              "      fill: #FFFFFF;\n",
              "    }\n",
              "  </style>\n",
              "\n",
              "      <script>\n",
              "        const buttonEl =\n",
              "          document.querySelector('#df-1b33d0d2-f3b9-4f2e-b40d-8cce2c109f42 button.colab-df-convert');\n",
              "        buttonEl.style.display =\n",
              "          google.colab.kernel.accessAllowed ? 'block' : 'none';\n",
              "\n",
              "        async function convertToInteractive(key) {\n",
              "          const element = document.querySelector('#df-1b33d0d2-f3b9-4f2e-b40d-8cce2c109f42');\n",
              "          const dataTable =\n",
              "            await google.colab.kernel.invokeFunction('convertToInteractive',\n",
              "                                                     [key], {});\n",
              "          if (!dataTable) return;\n",
              "\n",
              "          const docLinkHtml = 'Like what you see? Visit the ' +\n",
              "            '<a target=\"_blank\" href=https://colab.research.google.com/notebooks/data_table.ipynb>data table notebook</a>'\n",
              "            + ' to learn more about interactive tables.';\n",
              "          element.innerHTML = '';\n",
              "          dataTable['output_type'] = 'display_data';\n",
              "          await google.colab.output.renderOutput(dataTable, element);\n",
              "          const docLink = document.createElement('div');\n",
              "          docLink.innerHTML = docLinkHtml;\n",
              "          element.appendChild(docLink);\n",
              "        }\n",
              "      </script>\n",
              "    </div>\n",
              "  </div>\n",
              "  "
            ],
            "text/plain": [
              "param_learning_rate       0.1       0.2       0.5       1.0\n",
              "param_n_estimators                                         \n",
              "50.0                 0.691978  0.701188  0.694079  0.672145\n",
              "100.0                0.702555  0.704158  0.692403  0.664358\n",
              "150.0                0.704050  0.705563  0.688845  0.656410\n",
              "200.0                0.706475  0.704378  0.685088  0.651061\n",
              "250.0                0.707555  0.703777  0.681333  0.645494\n",
              "300.0                0.707880  0.702529  0.675177  0.642810"
            ]
          },
          "execution_count": 102,
          "metadata": {},
          "output_type": "execute_result"
        }
      ],
      "source": [
        "pivoted_test_results_set2 = results_set2.pivot('param_n_estimators', 'param_learning_rate', 'mean_test_score')\n",
        "pivoted_test_results_set2"
      ]
    },
    {
      "cell_type": "code",
      "execution_count": null,
      "metadata": {
        "colab": {
          "base_uri": "https://localhost:8080/",
          "height": 459
        },
        "id": "oBHLRrriBIWe",
        "outputId": "e371fc9e-e7f8-4fe8-9646-f43d555d4ac9"
      },
      "outputs": [
        {
          "data": {
            "image/png": "[encoded data removed]",
            "text/plain": [
              "<Figure size 1152x504 with 4 Axes>"
            ]
          },
          "metadata": {
            "needs_background": "light"
          },
          "output_type": "display_data"
        }
      ],
      "source": [
        "# heatmap\n",
        "# Plotting the performance of the model corresponding to different parameter values for the train dataset\n",
        "\n",
        "plt.figure(figsize=(16,7))\n",
        "ax= plt.subplot(1,2,1);\n",
        "\n",
        "\n",
        "sns.heatmap(pivoted_train_results_set2,vmin=0.5, annot=True,ax=ax, cmap=\"Blues\", fmt='.4f');\n",
        "\n",
        "# labels, title and ticks\n",
        "ax.set_ylim((6.0), 0)\n",
        "ax.set_title('TRAIN AUC score matrix');\n",
        "\n",
        "\n",
        "# heatmap\n",
        "# Plotting the performance of the model corresponding to different parameter values for the train dataset\n",
        "\n",
        "# plt.figure(figsize=(7,5))\n",
        "ax= plt.subplot(1,2,2);\n",
        "\n",
        "\n",
        "sns.heatmap(pivoted_test_results_set2,vmin=0.5, annot=True,ax=ax, cmap=\"Greens\", fmt='.4f');\n",
        "\n",
        "# labels, title and ticks\n",
        "ax.set_ylim((6.0), 0)\n",
        "ax.set_title('CV AUC score matrix');"
      ]
    },
    {
      "cell_type": "code",
      "execution_count": null,
      "metadata": {
        "id": "zxHFo2wND337"
      },
      "outputs": [],
      "source": [
        "# from the above plot we have to select the best hyperparameter i.e for which the train and cv scores are close \n",
        "# we can see that for n_estimators = 200 and learning_rate = 0.1"
      ]
    },
    {
      "cell_type": "markdown",
      "metadata": {
        "id": "pEK5avEWnC3q"
      },
      "source": [
        "## Training the model with the best hyper-parameter"
      ]
    },
    {
      "cell_type": "code",
      "execution_count": null,
      "metadata": {
        "id": "4SkQayL4KgII"
      },
      "outputs": [],
      "source": [
        "\n",
        "from sklearn.metrics import roc_curve\n",
        "from sklearn.metrics import auc"
      ]
    },
    {
      "cell_type": "code",
      "execution_count": null,
      "metadata": {
        "colab": {
          "base_uri": "https://localhost:8080/",
          "height": 279
        },
        "id": "HHJ2K09ZnJnw",
        "outputId": "e52ad01a-1ca5-4342-8655-6324e878c0d8"
      },
      "outputs": [
        {
          "data": {
            "image/png": "[encoded data removed]",
            "text/plain": [
              "<Figure size 432x288 with 1 Axes>"
            ]
          },
          "metadata": {
            "needs_background": "light"
          },
          "output_type": "display_data"
        }
      ],
      "source": [
        "# Now we are going to train our model using the best hyperparameter and then see what auc score we get on the test data\n",
        "n_est = 200\n",
        "lr = 0.1\n",
        "\n",
        "gbdt = XGBClassifier(n_estimators=n_est,learning_rate=lr,booster='gbtree')\n",
        "    \n",
        "gbdt.fit(X_tr_set2, y_train)       # Fitting our train data to the model\n",
        "\n",
        "# Predict the probability output for the train data points and store the auc_score\n",
        "y_train_pred_set2 = gbdt.predict_proba(X_tr_set2)[:,1]\n",
        "train_fpr_set2, train_tpr_set2, train_thresholds_set2 = roc_curve(y_train, y_train_pred_set2)\n",
        "\n",
        "y_test_pred_set2 = gbdt.predict_proba(X_te_set2)[:,1]\n",
        "test_fpr_set2, test_tpr_set2, test_thresholds_set2 = roc_curve(y_test, y_test_pred_set2)\n",
        "\n",
        "# Plot the ROC curve\n",
        "plt.plot(train_fpr_set2, train_tpr_set2, label='Train AUC='+str(auc(train_fpr_set2,train_tpr_set2)))\n",
        "plt.plot(test_fpr_set2, test_tpr_set2, label='Test AUC='+str(auc(test_fpr_set2,test_tpr_set2)))\n",
        "plt.grid()\n",
        "plt.legend()\n",
        "plt.xlabel('FPR')\n",
        "plt.xlabel('TPR')\n",
        "plt.show();"
      ]
    },
    {
      "cell_type": "code",
      "execution_count": null,
      "metadata": {
        "id": "YecbChE2nJdG"
      },
      "outputs": [],
      "source": [
        "# the best threshold will be the one for which the tpr*(1-fpr) value is the maximum\n",
        "def find_best_thresold(thresholds, fpr, tpr):\n",
        "    t = thresholds[np.argmax(tpr*(1-fpr))]\n",
        "    print(f\"The best thershold for which tpr*(1-fpr) is maximum is {t}\")\n",
        "    return t\n",
        "\n",
        "# This function returns the class label for a given threshold and probalbilty value \n",
        "def predict_with_best_proba(proba, threshold):\n",
        "    \n",
        "    predictions = []\n",
        "    \n",
        "    for i in proba:\n",
        "        if i> threshold:\n",
        "            predictions.append(1)\n",
        "        else:\n",
        "            predictions.append(0)\n",
        "    return predictions"
      ]
    },
    {
      "cell_type": "code",
      "execution_count": null,
      "metadata": {
        "colab": {
          "base_uri": "https://localhost:8080/"
        },
        "id": "xrKgsGffnJTG",
        "outputId": "3889c549-0e76-4c52-dea0-f78a03cbef8d"
      },
      "outputs": [
        {
          "name": "stdout",
          "output_type": "stream",
          "text": [
            "The best thershold for which tpr-(1-fpr) is maximum is 0.8319200873374939\n",
            "Train Confusion matrix:\n",
            " [[ 7237   703]\n",
            " [ 6410 38088]]\n",
            "Test Confusion matrix:\n",
            " [[ 1118  2190]\n",
            " [ 6260 12282]]\n"
          ]
        }
      ],
      "source": [
        "# Find the best threshold\n",
        "\n",
        "best_threshold = find_best_thresold(train_thresholds, train_fpr, train_tpr)\n",
        "\n",
        "# Print the TRAIN confusion matrix\n",
        "print(\"Train Confusion matrix:\\n\",confusion_matrix(y_train, predict_with_best_proba(y_train_pred, best_threshold)))\n",
        "\n",
        "# Print the Test confusion matrix\n",
        "print(\"Test Confusion matrix:\\n\",confusion_matrix(y_test, predict_with_best_proba(y_test_pred, best_threshold)))\n",
        "\n"
      ]
    },
    {
      "cell_type": "markdown",
      "metadata": {
        "id": "K4r3SYDZLz3S"
      },
      "source": [
        "## Plotting train and test confusion matrices"
      ]
    },
    {
      "cell_type": "code",
      "execution_count": null,
      "metadata": {
        "colab": {
          "base_uri": "https://localhost:8080/",
          "height": 295
        },
        "id": "7qiKy7cZnJIO",
        "outputId": "df3d682d-6563-48c9-f215-bac06d62c7f6"
      },
      "outputs": [
        {
          "data": {
            "image/png": "[encoded data removed]",
            "text/plain": [
              "<Figure size 432x288 with 2 Axes>"
            ]
          },
          "metadata": {
            "needs_background": "light"
          },
          "output_type": "display_data"
        }
      ],
      "source": [
        "# Reference : https://stackoverflow.com/questions/61748441/how-to-fix-the-values-displayed-in-a-confusion-matrix-in-exponential-form-to-nor\n",
        "\n",
        "# Store the confusion matrix and use it to plot the heatmap\n",
        "cm=confusion_matrix(y_train, predict_with_best_proba(y_train_pred, best_threshold))\n",
        "\n",
        "ax= plt.subplot();\n",
        "sns.heatmap(cm, annot=True,cmap='Blues',ax=ax,fmt='d');\n",
        "\n",
        "# labels, title and ticks\n",
        "ax.set_xlabel('Predicted labels');\n",
        "ax.set_ylabel('True labels'); \n",
        "ax.set_ylim(2.0, 0)\n",
        "ax.set_title('Train Confusion Matrix');\n",
        "ax.xaxis.set_ticklabels(['0','1']); \n",
        "ax.yaxis.set_ticklabels(['0','1']);"
      ]
    },
    {
      "cell_type": "code",
      "execution_count": null,
      "metadata": {
        "colab": {
          "base_uri": "https://localhost:8080/",
          "height": 295
        },
        "id": "SktN8QC8nI-J",
        "outputId": "b04dbe43-8b13-43fb-ab60-59624fc5dc89"
      },
      "outputs": [
        {
          "data": {
            "image/png": "[encoded data removed]",
            "text/plain": [
              "<Figure size 432x288 with 2 Axes>"
            ]
          },
          "metadata": {
            "needs_background": "light"
          },
          "output_type": "display_data"
        }
      ],
      "source": [
        "# Reference : https://stackoverflow.com/questions/61748441/how-to-fix-the-values-displayed-in-a-confusion-matrix-in-exponential-form-to-nor\n",
        "\n",
        "# Store the confusion matrix and use it to plot the heatmap\n",
        "cm=confusion_matrix(y_test, predict_with_best_proba(y_test_pred, best_threshold))\n",
        "\n",
        "ax= plt.subplot();\n",
        "sns.heatmap(cm, annot=True,cmap='Reds',ax=ax,fmt='d');\n",
        "\n",
        "# labels, title and ticks\n",
        "ax.set_xlabel('Predicted labels');\n",
        "ax.set_ylabel('True labels'); \n",
        "ax.set_ylim(2.0, 0)\n",
        "ax.set_title('Test Confusion Matrix');\n",
        "ax.xaxis.set_ticklabels(['0','1']); \n",
        "ax.yaxis.set_ticklabels(['0','1']);"
      ]
    },
    {
      "cell_type": "markdown",
      "metadata": {
        "id": "YhFN-lDWsc4G"
      },
      "source": [
        "<h1>3. Summary</h1>\n"
      ]
    },
    {
      "cell_type": "code",
      "execution_count": null,
      "metadata": {
        "id": "BMQObSkHe97D"
      },
      "outputs": [],
      "source": [
        "from prettytable import PrettyTable"
      ]
    },
    {
      "cell_type": "code",
      "execution_count": null,
      "metadata": {
        "colab": {
          "base_uri": "https://localhost:8080/"
        },
        "id": "wyEvESZvfyLZ",
        "outputId": "1646570e-a59d-4405-9d48-e7317045d8f4"
      },
      "outputs": [
        {
          "name": "stdout",
          "output_type": "stream",
          "text": [
            "+------------+-------+------------------------------------+--------------------+\n",
            "| Vectorizer | Model |          Hyper-parameter           |        AUC         |\n",
            "+------------+-------+------------------------------------+--------------------+\n",
            "|   TF-IDF   |  GBDT | n_estimators=300,learning_rate=0.1 | 0.7203207786577406 |\n",
            "| TFIDF_W2V  |  GBDT | n_estimators=200,learning_rate=0.1 | 0.7054501304075573 |\n",
            "+------------+-------+------------------------------------+--------------------+\n"
          ]
        }
      ],
      "source": [
        "x = PrettyTable()\n",
        "x = PrettyTable([\"Vectorizer\", \"Model\", \"Hyper-parameter\", \"AUC\"])\n",
        "\n",
        "row = ['TF-IDF', 'GBDT', 'n_estimators=300,learning_rate=0.1', auc(test_fpr,test_tpr)]\n",
        "x.add_row(row)\n",
        "\n",
        "row = ['TFIDF_W2V', 'GBDT', 'n_estimators=200,learning_rate=0.1', auc(test_fpr_set2,test_tpr_set2)]\n",
        "x.add_row(row)\n",
        "\n",
        "print(x)"
      ]
    }
  ],
  "metadata": {
    "colab": {
      "provenance": []
    },
    "gpuClass": "standard",
    "kernelspec": {
      "display_name": "Python 3",
      "language": "python",
      "name": "python3"
    },
    "language_info": {
      "codemirror_mode": {
        "name": "ipython",
        "version": 3
      },
      "file_extension": ".py",
      "mimetype": "text/x-python",
      "name": "python",
      "nbconvert_exporter": "python",
      "pygments_lexer": "ipython3",
      "version": "3.7.3"
    }
  },
  "nbformat": 4,
  "nbformat_minor": 0
}